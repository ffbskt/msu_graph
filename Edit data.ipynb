{
 "cells": [
  {
   "cell_type": "markdown",
   "metadata": {},
   "source": [
    "# Notebook to edit data"
   ]
  },
  {
   "cell_type": "code",
   "execution_count": 1,
   "metadata": {},
   "outputs": [],
   "source": [
    "import pygsheets\n",
    "import pandas as pd\n",
    "import numpy as np\n",
    "import datetime\n",
    "import util\n",
    "c = pygsheets.authorize(outh_file='other.json')\n",
    "\n"
   ]
  },
  {
   "cell_type": "markdown",
   "metadata": {},
   "source": [
    "# Protected Range"
   ]
  },
  {
   "cell_type": "code",
   "execution_count": null,
   "metadata": {},
   "outputs": [],
   "source": [
    "gc = pygsheets.authorize(outh_file='/home/denis/Program/work/sheets.googleapis.com-python.json')\n",
    "print(gc.get_range('1B1vEqp6uK7x2B8pV0dSH3S9DetFesaDP8n83Ewy53Yk', 'A1:D3' ))\n",
    "gridrange = {\n",
    "  \"sheetId\": 0,\n",
    "  \"startRowIndex\": 0,\n",
    "  \"endRowIndex\": 2,\n",
    "  \"startColumnIndex\": 0,\n",
    "  \"endColumnIndex\": 2,\n",
    "}\n",
    "\n",
    "editors = {\n",
    "  \"users\": [\n",
    "    'ffbskt@gmail.com',\n",
    "  ],\n",
    "  \"groups\": [\n",
    "  ],\n",
    "  \"domainUsersCanEdit\": True,\n",
    "}\n",
    "request = {\"addProtectedRange\": {\n",
    "            \"protectedRange\": {\n",
    "                \"range\": gridrange,\n",
    "                \"editors\": editors\n",
    "            },\n",
    "\n",
    "        }}\n",
    "#print(gc.sh_batch_update('1B1vEqp6uK7x2B8pV0dSH3S9DetFesaDP8n83Ewy53Yk', request, None, False))"
   ]
  },
  {
   "cell_type": "code",
   "execution_count": 10,
   "metadata": {},
   "outputs": [],
   "source": [
    "gc = pygsheets.authorize(outh_file='/home/denis/Program/work/sheets.googleapis.com-python.json')\n",
    "wks = util.read_sheet('1s5vtpVMmWZQCuUOdBVoNCCAVK_7U6ax3uZn0ynzgB28')\n",
    "df = wks.get_as_df()"
   ]
  },
  {
   "cell_type": "code",
   "execution_count": 18,
   "metadata": {},
   "outputs": [],
   "source": [
    "def open_protected_today(key):\n",
    "    col = datetime.datetime.now().strftime(\"%m-%d\")\n",
    "    ind = df.columns.get_loc(col)\n",
    "    \n",
    "    #delete protected range\n",
    "    request = {\n",
    "              \"deleteProtectedRange\": {\n",
    "                \"protectedRangeId\": 1,\n",
    "              }\n",
    "            }\n",
    "    try:\n",
    "        gc.sh_batch_update(key, request, None, False)\n",
    "    except:\n",
    "        pass\n",
    "    #set new range\n",
    "    gridrange = {\n",
    "      \"sheetId\": 0,\n",
    "      \"startRowIndex\": 0,\n",
    "      \"endRowIndex\": 50,\n",
    "      \"startColumnIndex\": 0,\n",
    "      \"endColumnIndex\": ind,\n",
    "    }\n",
    "    editors = {\n",
    "      \"users\": [\n",
    "        'ffbskt@gmail.com',\n",
    "      ],\n",
    "      \"groups\": [\n",
    "      ],\n",
    "      \"domainUsersCanEdit\": True,\n",
    "    }\n",
    "    request = {\"addProtectedRange\": {\n",
    "                \"protectedRange\": {\n",
    "                \"protectedRangeId\": 1,\n",
    "                \"range\": gridrange,\n",
    "                \"editors\": editors\n",
    "            },\n",
    "\n",
    "        }}\n",
    "    gc.sh_batch_update(key, request, None, False)\n",
    "    ##open col of protection (can edit by link)\n",
    "    \n",
    "open_protected_today('1s5vtpVMmWZQCuUOdBVoNCCAVK_7U6ax3uZn0ynzgB28')"
   ]
  },
  {
   "cell_type": "code",
   "execution_count": null,
   "metadata": {},
   "outputs": [],
   "source": []
  },
  {
   "cell_type": "code",
   "execution_count": 2,
   "metadata": {},
   "outputs": [
    {
     "ename": "TypeError",
     "evalue": "first_empty() missing 2 required positional arguments: 'df' and 'col'",
     "output_type": "error",
     "traceback": [
      "\u001b[0;31m---------------------------------------------------------------------------\u001b[0m",
      "\u001b[0;31mTypeError\u001b[0m                                 Traceback (most recent call last)",
      "\u001b[0;32m<ipython-input-2-fdfce4f1d8dc>\u001b[0m in \u001b[0;36m<module>\u001b[0;34m()\u001b[0m\n\u001b[1;32m      4\u001b[0m         \u001b[0;32mif\u001b[0m \u001b[0;32mnot\u001b[0m \u001b[0mval\u001b[0m\u001b[0;34m:\u001b[0m\u001b[0;34m\u001b[0m\u001b[0m\n\u001b[1;32m      5\u001b[0m             \u001b[0;32mreturn\u001b[0m \u001b[0mind\u001b[0m\u001b[0;34m\u001b[0m\u001b[0m\n\u001b[0;32m----> 6\u001b[0;31m \u001b[0mfirst_empty\u001b[0m\u001b[0;34m(\u001b[0m\u001b[0;34m)\u001b[0m\u001b[0;34m\u001b[0m\u001b[0m\n\u001b[0m",
      "\u001b[0;31mTypeError\u001b[0m: first_empty() missing 2 required positional arguments: 'df' and 'col'"
     ]
    }
   ],
   "source": [
    "def first_empty(df, col):\n",
    "    r = df.loc[[col]] != ''\n",
    "    for ind, val in enumerate(r.values[0]):\n",
    "        if not val:\n",
    "            return ind\n",
    "first_empty()"
   ]
  },
  {
   "cell_type": "markdown",
   "metadata": {
    "collapsed": true
   },
   "source": [
    "# Copy sheet and add to graph"
   ]
  },
  {
   "cell_type": "code",
   "execution_count": null,
   "metadata": {},
   "outputs": [],
   "source": [
    "wks = util.read_sheet('1zx2VAIuiqFP9lZxwMUxeEyih7qpa2p5Su4mOw_ilC4E')#.get_as_df()\n",
    "c.create(title='Quise', parent_id='1ncBfOFctKPVRKBYwrc58U5_UaD-d0D30')\n",
    "wks_copy = util.read_sheet(c.spreadsheetId)\n",
    "wks_copy.set_dataframe(wks.get_as_df(), start='A1')"
   ]
  },
  {
   "cell_type": "markdown",
   "metadata": {},
   "source": [
    "# Edit data in sheet"
   ]
  },
  {
   "cell_type": "code",
   "execution_count": null,
   "metadata": {},
   "outputs": [],
   "source": [
    "df = wks_copy.get_as_df()\n",
    "df = util.join_suname_to_init(df, crange=[2,5], rrange=None, remove=True)"
   ]
  },
  {
   "cell_type": "code",
   "execution_count": null,
   "metadata": {},
   "outputs": [],
   "source": [
    "df = df.rename(index=str, columns={\"Фамилия\": \"ФИО\", \n",
    "                              \"Адрес электронной почты\": \"Почта\",\n",
    "                             \"Учебная группа\": \"Группа\",\n",
    "                             \"Секция по физкультуре\": \"Секция\",\n",
    "                             \"Медецинская группа, как на фотографии\": \"справка\"\n",
    "                             })\n",
    "df"
   ]
  },
  {
   "cell_type": "code",
   "execution_count": null,
   "metadata": {},
   "outputs": [],
   "source": [
    "# Add node_name of main list (which course and faculty)\n",
    "NODE_DICT = {'Физический1': \"закрытый_список_2017\"}#'закр список'}  #, ''}\n",
    "def find_node_name(key, node_dict):\n",
    "    if key in node_dict:\n",
    "        return node_dict[key]\n",
    "    else:\n",
    "        return ''\n",
    "df['node_name'] = [find_node_name(str(a) + str(b), NODE_DICT) \n",
    "                   for a, b in zip(df['Факультет'], df['Курс'])]\n"
   ]
  },
  {
   "cell_type": "code",
   "execution_count": null,
   "metadata": {},
   "outputs": [],
   "source": [
    "df"
   ]
  },
  {
   "cell_type": "code",
   "execution_count": null,
   "metadata": {},
   "outputs": [],
   "source": [
    "wks_copy.set_dataframe(df, start='A1')"
   ]
  },
  {
   "cell_type": "code",
   "execution_count": null,
   "metadata": {},
   "outputs": [],
   "source": [
    "c.spreadsheetId # for sinc add \n",
    "#https://docs.google.com/spreadsheets/d/https://docs.google.com/spreadsheets/d/ + id"
   ]
  },
  {
   "cell_type": "code",
   "execution_count": null,
   "metadata": {},
   "outputs": [],
   "source": []
  },
  {
   "cell_type": "markdown",
   "metadata": {},
   "source": [
    "# Multiple sinc"
   ]
  },
  {
   "cell_type": "markdown",
   "metadata": {},
   "source": [
    "We have form with multiple faculty and groups. We edit keys and values to main standart at the begining and add column \"node dict\" to contain name of link at graph sheet. Now we take form as df, sort by \"node dict\", open link and sync."
   ]
  },
  {
   "cell_type": "code",
   "execution_count": null,
   "metadata": {},
   "outputs": [],
   "source": [
    "def open_node_by_name(node_name, graph_df):\n",
    "    row = util.get_row_by_keys(graph_df, key_column=[\"node_name\"], key_value=[node_name])\n",
    "    link = row[\"node\"].values[0]\n",
    "    return util.read_sheet(util.get_sheet_id_from_link(link))"
   ]
  },
  {
   "cell_type": "code",
   "execution_count": null,
   "metadata": {},
   "outputs": [],
   "source": [
    "def get_ind(df, colname, ifval):\n",
    "    return [str(i[1]) for i in zip(df[colname] == ifval, df.index) if i[0]]"
   ]
  },
  {
   "cell_type": "code",
   "execution_count": null,
   "metadata": {},
   "outputs": [],
   "source": [
    "import util\n",
    "graph_df = util.read_sheet('1MeAYhENafzQMoTKDG-VOLI308ih1wl7SjMLbOkwJU4M').get_as_df()\n",
    "args = {\"to_key_colname\":[ \"ФИО\", \"Группа\"], \"to_values_colname\": [\"Секция\"]}\n",
    "unique = list(df[\"node_name\"].unique())\n",
    "if '' in unique:\n",
    "    unique.remove('')\n",
    "while unique:\n",
    "    main_name = unique.pop()\n",
    "    main_wks = open_node_by_name(main_name, graph_df)\n",
    "    from_wks = df[df[\"node_name\"] == main_name]\n",
    "    util.sync_by_colname(from_wks=from_wks, to_wks=main_wks, **args)\n",
    "    df_sync_ind = get_ind(df, \"node_name\", main_name)\n"
   ]
  },
  {
   "cell_type": "code",
   "execution_count": null,
   "metadata": {},
   "outputs": [],
   "source": [
    "df[\"mark\"] = 0"
   ]
  },
  {
   "cell_type": "code",
   "execution_count": null,
   "metadata": {},
   "outputs": [],
   "source": [
    "import json\n",
    "from util import read_sheet, get_sheet_id_from_link, sync_by_colname\n",
    "\n",
    "\"\"\"\n",
    "Go by graph and sync all linked sheets by args.\n",
    "\"\"\"\n",
    "\n",
    "#graph = read_sheet('1MeAYhENafzQMoTKDG-VOLI308ih1wl7SjMLbOkwJU4M').get_as_df()\n",
    "graph = read_sheet('1q8z_9QDwSia1IMo7qvDdH2cui0-D5My0xkClopMWcqw').get_as_df() # TEST\n",
    "\n",
    "\n",
    "for i, line in graph.iterrows():\n",
    "    if line['Pass']:\n",
    "        continue\n",
    "\n",
    "    from_wks = read_sheet(get_sheet_id_from_link(line['node']))\n",
    "    links = line['link'].split(',')\n",
    "    args = json.loads(line['args'])\n",
    "    for link in links:\n",
    "        to_wks = read_sheet(get_sheet_id_from_link(link))\n",
    "        print(args['to_values_colname'], line['node'], link)\n",
    "        sync_by_colname(from_wks=from_wks, to_wks=to_wks, **args)"
   ]
  },
  {
   "cell_type": "markdown",
   "metadata": {},
   "source": [
    "# 2018 Optimize lessons\n"
   ]
  },
  {
   "cell_type": "code",
   "execution_count": 2,
   "metadata": {},
   "outputs": [],
   "source": [
    "import pygsheets\n",
    "import pandas as pd\n",
    "import util\n",
    "import random\n",
    "import hashlib"
   ]
  },
  {
   "cell_type": "code",
   "execution_count": 3,
   "metadata": {},
   "outputs": [
    {
     "ename": "NameError",
     "evalue": "name 'PandasForm' is not defined",
     "output_type": "error",
     "traceback": [
      "\u001b[0;31m---------------------------------------------------------------------------\u001b[0m",
      "\u001b[0;31mNameError\u001b[0m                                 Traceback (most recent call last)",
      "\u001b[0;32m<ipython-input-3-685e45c95f1c>\u001b[0m in \u001b[0;36m<module>\u001b[0;34m()\u001b[0m\n\u001b[1;32m      2\u001b[0m \u001b[0;34m\u001b[0m\u001b[0m\n\u001b[1;32m      3\u001b[0m \u001b[0mimportlib\u001b[0m\u001b[0;34m.\u001b[0m\u001b[0mreload\u001b[0m\u001b[0;34m(\u001b[0m\u001b[0mutil\u001b[0m\u001b[0;34m)\u001b[0m\u001b[0;34m\u001b[0m\u001b[0m\n\u001b[0;32m----> 4\u001b[0;31m \u001b[0mimportlib\u001b[0m\u001b[0;34m.\u001b[0m\u001b[0mreload\u001b[0m\u001b[0;34m(\u001b[0m\u001b[0mPandasForm\u001b[0m\u001b[0;34m)\u001b[0m\u001b[0;34m\u001b[0m\u001b[0m\n\u001b[0m\u001b[1;32m      5\u001b[0m \u001b[0mimportlib\u001b[0m\u001b[0;34m.\u001b[0m\u001b[0mreload\u001b[0m\u001b[0;34m(\u001b[0m\u001b[0mSyncGraph\u001b[0m\u001b[0;34m)\u001b[0m\u001b[0;34m\u001b[0m\u001b[0m\n",
      "\u001b[0;31mNameError\u001b[0m: name 'PandasForm' is not defined"
     ]
    }
   ],
   "source": [
    "import importlib\n",
    "\n",
    "importlib.reload(util)\n",
    "importlib.reload(PandasForm)\n",
    "importlib.reload(SyncGraph)"
   ]
  },
  {
   "cell_type": "code",
   "execution_count": 4,
   "metadata": {},
   "outputs": [],
   "source": [
    "c = pygsheets.authorize(outh_file='other.json')\n",
    "\n",
    "\n",
    "#sh = c.open_by_key('1cWN-sMoaV_5NjWTcjryRx-6uxi29K9KaWt5vHa9vQog')#\"1-xmNwRbxBwcZSHem67cVhf-ilG_bh_g_MRvR96Q74nE\")#\n",
    "#wks = sh.sheet1\n"
   ]
  },
  {
   "cell_type": "code",
   "execution_count": 6,
   "metadata": {},
   "outputs": [],
   "source": [
    "def safe_transfer_to_pd_by_col(wks, col_list):\n",
    "    \"\"\"\n",
    "        take col one by one and create pd dataframe (more stable then get_as_df)\n",
    "        col_list = [1, 2, 6...]\n",
    "    \"\"\" \n",
    "    df = pd.DataFrame()\n",
    "    for col in col_list:\n",
    "        \n",
    "        full_col = wks.get_col(col, include_empty=False)\n",
    "        #print(col, full_col, full_col[0], len(full_col), df.shape[0])\n",
    "        diff_coll = df.shape[0] - len(full_col) + 1\n",
    "        if diff_coll > 0: \n",
    "            for i in range(diff_coll):\n",
    "                full_col.append('')\n",
    "            \n",
    "        df[full_col[0]] = full_col[1:]\n",
    "    return df"
   ]
  },
  {
   "cell_type": "code",
   "execution_count": 7,
   "metadata": {},
   "outputs": [],
   "source": [
    "def score_to_int(sc_val):\n",
    "    return int(sc_val.split('/')[0])"
   ]
  },
  {
   "cell_type": "code",
   "execution_count": 14,
   "metadata": {},
   "outputs": [],
   "source": [
    "wks = c.open_by_key(key='1cWN-sMoaV_5NjWTcjryRx-6uxi29K9KaWt5vHa9vQog').sheet1\n",
    "df = safe_transfer_to_pd_by_col(wks, [1,2,3,4,5,6,7,8]) # 7 problem"
   ]
  },
  {
   "cell_type": "code",
   "execution_count": null,
   "metadata": {},
   "outputs": [],
   "source": [
    "def filter_df_with_propertis(df, propertys_function):\n",
    "    "
   ]
  },
  {
   "cell_type": "code",
   "execution_count": 15,
   "metadata": {},
   "outputs": [],
   "source": [
    "# Rename columns from test\n",
    "col_to_rename = {\"Номер учебной группы (101, 201, 201э)\":'group', \n",
    "                 \"Email Address\":'key', # emeil hash\n",
    "                 \"Score\":'test_rool', # transform to int\n",
    "                 'Фамилия и инициалы (Пример: Петров А. Б.)':'suname',\n",
    "                 \"Медицинская группа (на загруженной справке)\":'med'\n",
    "                }\n",
    "df.rename(columns=col_to_rename, inplace=True)"
   ]
  },
  {
   "cell_type": "code",
   "execution_count": 16,
   "metadata": {},
   "outputs": [],
   "source": [
    "#email -> hash\n",
    "def mail_hesh(mail):\n",
    "    return hashlib.md5(mail.encode('UTF-8')).hexdigest()\n"
   ]
  },
  {
   "cell_type": "code",
   "execution_count": 17,
   "metadata": {},
   "outputs": [],
   "source": [
    "def get_cource(group_number):\n",
    "    if group_number:\n",
    "        return str(group_number[0])\n",
    "    return ''\n",
    "    #return group_number or group_number[0]\n"
   ]
  },
  {
   "cell_type": "code",
   "execution_count": 18,
   "metadata": {},
   "outputs": [],
   "source": [
    "\n",
    "df['key'] = df['key'].apply(mail_hesh)\n",
    "df['key'] = df['key'].apply(str) #int to long for google docs\n",
    "df['cource'] = df['group'].apply(get_cource)\n",
    "#df['key'] = df['key'].apply(lambda x: 'a'+str(x))"
   ]
  },
  {
   "cell_type": "code",
   "execution_count": 19,
   "metadata": {},
   "outputs": [],
   "source": [
    "#test score to int \n",
    "df['test_rool'] = df['test_rool'].apply(score_to_int)"
   ]
  },
  {
   "cell_type": "code",
   "execution_count": 20,
   "metadata": {},
   "outputs": [
    {
     "data": {
      "text/html": [
       "<div>\n",
       "<style scoped>\n",
       "    .dataframe tbody tr th:only-of-type {\n",
       "        vertical-align: middle;\n",
       "    }\n",
       "\n",
       "    .dataframe tbody tr th {\n",
       "        vertical-align: top;\n",
       "    }\n",
       "\n",
       "    .dataframe thead th {\n",
       "        text-align: right;\n",
       "    }\n",
       "</style>\n",
       "<table border=\"1\" class=\"dataframe\">\n",
       "  <thead>\n",
       "    <tr style=\"text-align: right;\">\n",
       "      <th></th>\n",
       "      <th>Timestamp</th>\n",
       "      <th>key</th>\n",
       "      <th>test_rool</th>\n",
       "      <th>suname</th>\n",
       "      <th>group</th>\n",
       "      <th>Факультет</th>\n",
       "      <th>Фото справки медосмотра</th>\n",
       "      <th>Медицинская группа (на загруженной справке)</th>\n",
       "      <th>cource</th>\n",
       "    </tr>\n",
       "  </thead>\n",
       "  <tbody>\n",
       "    <tr>\n",
       "      <th>0</th>\n",
       "      <td>9/4/2018 12:12:35</td>\n",
       "      <td>98937156f7fa66285d0a45ff6b675a51</td>\n",
       "      <td>5</td>\n",
       "      <td>а а</td>\n",
       "      <td>1</td>\n",
       "      <td>Физифак</td>\n",
       "      <td></td>\n",
       "      <td>основная</td>\n",
       "      <td>1</td>\n",
       "    </tr>\n",
       "    <tr>\n",
       "      <th>1</th>\n",
       "      <td>9/21/2018 10:47:21</td>\n",
       "      <td>69a302a1e4948ccd6ceef0969642165d</td>\n",
       "      <td>10</td>\n",
       "      <td>Агапова Д.А.</td>\n",
       "      <td>103</td>\n",
       "      <td>Физифак</td>\n",
       "      <td>https://drive.google.com/open?id=1z9-r983B5H49...</td>\n",
       "      <td>основная</td>\n",
       "      <td>1</td>\n",
       "    </tr>\n",
       "    <tr>\n",
       "      <th>2</th>\n",
       "      <td>9/8/2018 13:23:30</td>\n",
       "      <td>ea124424181caae9d3b59b7f3852b33b</td>\n",
       "      <td>24</td>\n",
       "      <td>Альперович К. Д.</td>\n",
       "      <td>209</td>\n",
       "      <td>Физифак</td>\n",
       "      <td></td>\n",
       "      <td>основная</td>\n",
       "      <td>2</td>\n",
       "    </tr>\n",
       "    <tr>\n",
       "      <th>3</th>\n",
       "      <td>9/5/2018 21:05:23</td>\n",
       "      <td>83a0b25fb3f6a9e8b855ba721063a57d</td>\n",
       "      <td>13</td>\n",
       "      <td>Андреев А.А.</td>\n",
       "      <td>212</td>\n",
       "      <td>Физифак</td>\n",
       "      <td></td>\n",
       "      <td>основная</td>\n",
       "      <td>2</td>\n",
       "    </tr>\n",
       "    <tr>\n",
       "      <th>4</th>\n",
       "      <td>9/4/2018 23:01:51</td>\n",
       "      <td>d3ba39bad34c57d41350f16f2e7aef5d</td>\n",
       "      <td>16</td>\n",
       "      <td>Беляев М.Е.</td>\n",
       "      <td>203</td>\n",
       "      <td>Физифак</td>\n",
       "      <td></td>\n",
       "      <td>основная</td>\n",
       "      <td>2</td>\n",
       "    </tr>\n",
       "    <tr>\n",
       "      <th>5</th>\n",
       "      <td>9/20/2018 0:09:12</td>\n",
       "      <td>4b74edf16084b48aaee12091cd184992</td>\n",
       "      <td>10</td>\n",
       "      <td>Бердышев Р.В.</td>\n",
       "      <td>103</td>\n",
       "      <td>Физифак</td>\n",
       "      <td>https://drive.google.com/open?id=1vd0LAAZZZ_7q...</td>\n",
       "      <td>основная</td>\n",
       "      <td>1</td>\n",
       "    </tr>\n",
       "    <tr>\n",
       "      <th>6</th>\n",
       "      <td>9/5/2018 17:38:30</td>\n",
       "      <td>3f30ed35239ad67c1fd3209c5a6b6b98</td>\n",
       "      <td>13</td>\n",
       "      <td>Власов В. А.</td>\n",
       "      <td>105</td>\n",
       "      <td>Физифак</td>\n",
       "      <td>https://drive.google.com/open?id=1awIIbAu-_t5Z...</td>\n",
       "      <td>основная</td>\n",
       "      <td>1</td>\n",
       "    </tr>\n",
       "    <tr>\n",
       "      <th>7</th>\n",
       "      <td>9/21/2018 23:11:06</td>\n",
       "      <td>6afaa8ad15c0829fe00f7141ff5dfb40</td>\n",
       "      <td>9</td>\n",
       "      <td>Гаврилов В.Р.</td>\n",
       "      <td>105</td>\n",
       "      <td>Физифак</td>\n",
       "      <td>https://drive.google.com/open?id=1JZpGOjhIklCF...</td>\n",
       "      <td>основная</td>\n",
       "      <td>1</td>\n",
       "    </tr>\n",
       "    <tr>\n",
       "      <th>8</th>\n",
       "      <td>9/8/2018 13:43:51</td>\n",
       "      <td>bf937329cfa2bc22aefd71dacc11269e</td>\n",
       "      <td>19</td>\n",
       "      <td>Гатина М.И.</td>\n",
       "      <td>212</td>\n",
       "      <td>Физифак</td>\n",
       "      <td></td>\n",
       "      <td>основная</td>\n",
       "      <td>2</td>\n",
       "    </tr>\n",
       "    <tr>\n",
       "      <th>9</th>\n",
       "      <td>9/15/2018 21:42:29</td>\n",
       "      <td>463597944bd1d764b15fc0eb3cbd41c7</td>\n",
       "      <td>19</td>\n",
       "      <td>Давыдов Д.А.</td>\n",
       "      <td>225м</td>\n",
       "      <td>Физифак</td>\n",
       "      <td></td>\n",
       "      <td>основная</td>\n",
       "      <td>2</td>\n",
       "    </tr>\n",
       "    <tr>\n",
       "      <th>10</th>\n",
       "      <td>9/8/2018 18:33:19</td>\n",
       "      <td>531e6452b926e27155c0a9e5c3fa9a0d</td>\n",
       "      <td>24</td>\n",
       "      <td>Давыдов М.М.</td>\n",
       "      <td>210</td>\n",
       "      <td>Физифак</td>\n",
       "      <td></td>\n",
       "      <td>основная</td>\n",
       "      <td>2</td>\n",
       "    </tr>\n",
       "    <tr>\n",
       "      <th>11</th>\n",
       "      <td>9/29/2018 13:02:32</td>\n",
       "      <td>d468770bd01e255822a94f7f48c0e128</td>\n",
       "      <td>3</td>\n",
       "      <td>Дубровский</td>\n",
       "      <td>106</td>\n",
       "      <td>Физифак</td>\n",
       "      <td></td>\n",
       "      <td>специальная</td>\n",
       "      <td>1</td>\n",
       "    </tr>\n",
       "    <tr>\n",
       "      <th>12</th>\n",
       "      <td>9/8/2018 12:34:27</td>\n",
       "      <td>55d875f5fd5a17ae395a03b687c0ac10</td>\n",
       "      <td>20</td>\n",
       "      <td>Ермолаев Н.А.</td>\n",
       "      <td>305</td>\n",
       "      <td>Физифак</td>\n",
       "      <td></td>\n",
       "      <td>основная</td>\n",
       "      <td>3</td>\n",
       "    </tr>\n",
       "    <tr>\n",
       "      <th>13</th>\n",
       "      <td>9/4/2018 22:54:59</td>\n",
       "      <td>95ae2860592fe85506b48836399d8a85</td>\n",
       "      <td>23</td>\n",
       "      <td>Ерофеева А.В.</td>\n",
       "      <td>213</td>\n",
       "      <td>Физифак</td>\n",
       "      <td></td>\n",
       "      <td>основная</td>\n",
       "      <td>2</td>\n",
       "    </tr>\n",
       "    <tr>\n",
       "      <th>14</th>\n",
       "      <td>9/8/2018 13:27:41</td>\n",
       "      <td>61ce307f89652db89651839f533ba4c4</td>\n",
       "      <td>18</td>\n",
       "      <td>Жариков В.И.</td>\n",
       "      <td>209</td>\n",
       "      <td>Физифак</td>\n",
       "      <td></td>\n",
       "      <td>основная</td>\n",
       "      <td>2</td>\n",
       "    </tr>\n",
       "    <tr>\n",
       "      <th>15</th>\n",
       "      <td>9/21/2018 23:31:12</td>\n",
       "      <td>122a13b70c457b05858b7c7a27ac420d</td>\n",
       "      <td>20</td>\n",
       "      <td>Зверев А. А.</td>\n",
       "      <td>209</td>\n",
       "      <td>Физифак</td>\n",
       "      <td></td>\n",
       "      <td>подготовительная</td>\n",
       "      <td>2</td>\n",
       "    </tr>\n",
       "    <tr>\n",
       "      <th>16</th>\n",
       "      <td>9/4/2018 23:20:14</td>\n",
       "      <td>74d6626ab73806ec762226bdc3950dbc</td>\n",
       "      <td>23</td>\n",
       "      <td>Зимнякова П.Е.</td>\n",
       "      <td>218</td>\n",
       "      <td>Физифак</td>\n",
       "      <td></td>\n",
       "      <td>основная</td>\n",
       "      <td>2</td>\n",
       "    </tr>\n",
       "    <tr>\n",
       "      <th>17</th>\n",
       "      <td>9/11/2018 20:05:55</td>\n",
       "      <td>f17f6ee12930ec1d61246b64d12988c7</td>\n",
       "      <td>21</td>\n",
       "      <td>Зуев Н.В.</td>\n",
       "      <td>207</td>\n",
       "      <td>Физифак</td>\n",
       "      <td></td>\n",
       "      <td>основная</td>\n",
       "      <td>2</td>\n",
       "    </tr>\n",
       "    <tr>\n",
       "      <th>18</th>\n",
       "      <td>9/19/2018 9:26:24</td>\n",
       "      <td>6cacbf1b6fe9a53c0e616598f92f0e09</td>\n",
       "      <td>12</td>\n",
       "      <td>Ильиных Д. И.</td>\n",
       "      <td>108</td>\n",
       "      <td>Физифак</td>\n",
       "      <td></td>\n",
       "      <td>основная</td>\n",
       "      <td>1</td>\n",
       "    </tr>\n",
       "    <tr>\n",
       "      <th>19</th>\n",
       "      <td>9/5/2018 17:31:44</td>\n",
       "      <td>cc7a52b56a694c10928ca51e8bca5ae9</td>\n",
       "      <td>20</td>\n",
       "      <td>Иноземцев М.А.</td>\n",
       "      <td>229м</td>\n",
       "      <td>Физифак</td>\n",
       "      <td></td>\n",
       "      <td>основная</td>\n",
       "      <td>2</td>\n",
       "    </tr>\n",
       "    <tr>\n",
       "      <th>20</th>\n",
       "      <td>9/4/2018 18:57:35</td>\n",
       "      <td>f27f6a11a034df23fbf2310a5db04f69</td>\n",
       "      <td>6</td>\n",
       "      <td>Казаркин Д.М.</td>\n",
       "      <td>207</td>\n",
       "      <td>Физифак</td>\n",
       "      <td></td>\n",
       "      <td>основная</td>\n",
       "      <td>2</td>\n",
       "    </tr>\n",
       "    <tr>\n",
       "      <th>21</th>\n",
       "      <td>9/21/2018 8:08:58</td>\n",
       "      <td>dc60470dabae6e859aa3f16514a595db</td>\n",
       "      <td>20</td>\n",
       "      <td>Коноплицкий В. В.</td>\n",
       "      <td>109</td>\n",
       "      <td>Физифак</td>\n",
       "      <td></td>\n",
       "      <td>основная</td>\n",
       "      <td>1</td>\n",
       "    </tr>\n",
       "    <tr>\n",
       "      <th>22</th>\n",
       "      <td>9/8/2018 13:36:33</td>\n",
       "      <td>98937156f7fa66285d0a45ff6b675a51</td>\n",
       "      <td>21</td>\n",
       "      <td>Король А.К.</td>\n",
       "      <td>205</td>\n",
       "      <td>Физифак</td>\n",
       "      <td></td>\n",
       "      <td>основная</td>\n",
       "      <td>2</td>\n",
       "    </tr>\n",
       "    <tr>\n",
       "      <th>23</th>\n",
       "      <td>9/21/2018 11:20:02</td>\n",
       "      <td>078e3c820c94f2f142e433bb161e57df</td>\n",
       "      <td>18</td>\n",
       "      <td>Короткова Т. А.</td>\n",
       "      <td>110</td>\n",
       "      <td>Физифак</td>\n",
       "      <td>https://drive.google.com/open?id=11iD-0xLpsdAl...</td>\n",
       "      <td>подготовительная</td>\n",
       "      <td>1</td>\n",
       "    </tr>\n",
       "    <tr>\n",
       "      <th>24</th>\n",
       "      <td>9/8/2018 13:31:40</td>\n",
       "      <td>058e6203363f1bca387461363932e365</td>\n",
       "      <td>18</td>\n",
       "      <td>Костенко Т. М.</td>\n",
       "      <td>206</td>\n",
       "      <td>Физифак</td>\n",
       "      <td></td>\n",
       "      <td>основная</td>\n",
       "      <td>2</td>\n",
       "    </tr>\n",
       "    <tr>\n",
       "      <th>25</th>\n",
       "      <td>9/4/2018 13:43:48</td>\n",
       "      <td>a389314e1095c6be09b2de9466f162e8</td>\n",
       "      <td>21</td>\n",
       "      <td>Кулёв М.С.</td>\n",
       "      <td>202</td>\n",
       "      <td>Физифак</td>\n",
       "      <td>https://drive.google.com/open?id=1CM9y-ONWc8hl...</td>\n",
       "      <td>основная</td>\n",
       "      <td>2</td>\n",
       "    </tr>\n",
       "    <tr>\n",
       "      <th>26</th>\n",
       "      <td>9/8/2018 13:19:48</td>\n",
       "      <td>882b4c9c457a52823e7e2a1a4d5f8456</td>\n",
       "      <td>19</td>\n",
       "      <td>Лабунов А.С.</td>\n",
       "      <td>209</td>\n",
       "      <td>Физифак</td>\n",
       "      <td></td>\n",
       "      <td>основная</td>\n",
       "      <td>2</td>\n",
       "    </tr>\n",
       "    <tr>\n",
       "      <th>27</th>\n",
       "      <td>9/18/2018 21:52:19</td>\n",
       "      <td>789707242dc6dc20add7f60f82352195</td>\n",
       "      <td>21</td>\n",
       "      <td>Лаптев Р. А.</td>\n",
       "      <td>109</td>\n",
       "      <td>Физифак</td>\n",
       "      <td></td>\n",
       "      <td>подготовительная</td>\n",
       "      <td>1</td>\n",
       "    </tr>\n",
       "    <tr>\n",
       "      <th>28</th>\n",
       "      <td>9/8/2018 13:34:39</td>\n",
       "      <td>da01f561d850903d3483e8ae9739ed1f</td>\n",
       "      <td>21</td>\n",
       "      <td>Лукманов A. Р.</td>\n",
       "      <td>210</td>\n",
       "      <td>Физифак</td>\n",
       "      <td>https://drive.google.com/open?id=1F2Lm_lp_viGt...</td>\n",
       "      <td>подготовительная</td>\n",
       "      <td>2</td>\n",
       "    </tr>\n",
       "    <tr>\n",
       "      <th>29</th>\n",
       "      <td>9/17/2018 20:44:20</td>\n",
       "      <td>6e4064063a4f84d723b8ba6d7f5d4694</td>\n",
       "      <td>17</td>\n",
       "      <td>Мозеров Д.М.</td>\n",
       "      <td>110</td>\n",
       "      <td>Физифак</td>\n",
       "      <td>https://drive.google.com/open?id=1Gq3nixgod91F...</td>\n",
       "      <td>основная</td>\n",
       "      <td>1</td>\n",
       "    </tr>\n",
       "    <tr>\n",
       "      <th>...</th>\n",
       "      <td>...</td>\n",
       "      <td>...</td>\n",
       "      <td>...</td>\n",
       "      <td>...</td>\n",
       "      <td>...</td>\n",
       "      <td>...</td>\n",
       "      <td>...</td>\n",
       "      <td>...</td>\n",
       "      <td>...</td>\n",
       "    </tr>\n",
       "    <tr>\n",
       "      <th>66</th>\n",
       "      <td>9/15/2018 11:16:41</td>\n",
       "      <td>8e99c709bedeab96bdf48d4e75acf9aa</td>\n",
       "      <td>4</td>\n",
       "      <td>Го Цзянь</td>\n",
       "      <td>M106</td>\n",
       "      <td>Эконом</td>\n",
       "      <td></td>\n",
       "      <td>основная</td>\n",
       "      <td>M</td>\n",
       "    </tr>\n",
       "    <tr>\n",
       "      <th>67</th>\n",
       "      <td>9/15/2018 11:33:12</td>\n",
       "      <td>2adec8f795bae66c42e2724113a8df87</td>\n",
       "      <td>5</td>\n",
       "      <td>Гундарь. Д.В.</td>\n",
       "      <td>101м</td>\n",
       "      <td>Эконом</td>\n",
       "      <td></td>\n",
       "      <td>основная</td>\n",
       "      <td>1</td>\n",
       "    </tr>\n",
       "    <tr>\n",
       "      <th>68</th>\n",
       "      <td>9/15/2018 11:58:21</td>\n",
       "      <td>27ec2db791c08619ed02dc319c44acd4</td>\n",
       "      <td>2</td>\n",
       "      <td>Егоров М.В.</td>\n",
       "      <td>М104</td>\n",
       "      <td>Эконом</td>\n",
       "      <td></td>\n",
       "      <td>основная</td>\n",
       "      <td>М</td>\n",
       "    </tr>\n",
       "    <tr>\n",
       "      <th>69</th>\n",
       "      <td>9/15/2018 12:10:10</td>\n",
       "      <td>f9d256fd7012e18cccd03be0fea92143</td>\n",
       "      <td>20</td>\n",
       "      <td>Жуков М. А.</td>\n",
       "      <td>203э</td>\n",
       "      <td>Эконом</td>\n",
       "      <td></td>\n",
       "      <td>основная</td>\n",
       "      <td>2</td>\n",
       "    </tr>\n",
       "    <tr>\n",
       "      <th>70</th>\n",
       "      <td>9/15/2018 11:20:07</td>\n",
       "      <td>0642755b13256955ea10e1edadaa647c</td>\n",
       "      <td>18</td>\n",
       "      <td>Каменский Е.Д.</td>\n",
       "      <td>э105</td>\n",
       "      <td>Эконом</td>\n",
       "      <td></td>\n",
       "      <td>основная</td>\n",
       "      <td>э</td>\n",
       "    </tr>\n",
       "    <tr>\n",
       "      <th>71</th>\n",
       "      <td>9/15/2018 9:18:42</td>\n",
       "      <td>2df054d8f80813e28fe55ff9f1c41ba8</td>\n",
       "      <td>18</td>\n",
       "      <td>Кокряцкая Д.В</td>\n",
       "      <td>202</td>\n",
       "      <td>Эконом</td>\n",
       "      <td></td>\n",
       "      <td>основная</td>\n",
       "      <td>2</td>\n",
       "    </tr>\n",
       "    <tr>\n",
       "      <th>72</th>\n",
       "      <td>9/15/2018 11:27:23</td>\n",
       "      <td>37f5618e2b5bfd13430ccb80103cf21f</td>\n",
       "      <td>4</td>\n",
       "      <td>Королев Т.Ю.</td>\n",
       "      <td>109</td>\n",
       "      <td>Эконом</td>\n",
       "      <td></td>\n",
       "      <td>основная</td>\n",
       "      <td>1</td>\n",
       "    </tr>\n",
       "    <tr>\n",
       "      <th>73</th>\n",
       "      <td>9/15/2018 10:54:30</td>\n",
       "      <td>9a8ea478e85aff93515f33d5da1e39c6</td>\n",
       "      <td>8</td>\n",
       "      <td>Кочерин Н.А.</td>\n",
       "      <td>э101</td>\n",
       "      <td>Эконом</td>\n",
       "      <td></td>\n",
       "      <td>основная</td>\n",
       "      <td>э</td>\n",
       "    </tr>\n",
       "    <tr>\n",
       "      <th>74</th>\n",
       "      <td>9/15/2018 11:28:14</td>\n",
       "      <td>49758bfa03e23237ead22c47661cb858</td>\n",
       "      <td>14</td>\n",
       "      <td>Куданова А.И.</td>\n",
       "      <td>Э102</td>\n",
       "      <td>Эконом</td>\n",
       "      <td></td>\n",
       "      <td>основная</td>\n",
       "      <td>Э</td>\n",
       "    </tr>\n",
       "    <tr>\n",
       "      <th>75</th>\n",
       "      <td>9/15/2018 10:54:17</td>\n",
       "      <td>10798226dc58de1fa746ddec20b84b90</td>\n",
       "      <td>6</td>\n",
       "      <td>Мазов Н.В.</td>\n",
       "      <td>Э101</td>\n",
       "      <td>Эконом</td>\n",
       "      <td></td>\n",
       "      <td>основная</td>\n",
       "      <td>Э</td>\n",
       "    </tr>\n",
       "    <tr>\n",
       "      <th>76</th>\n",
       "      <td>9/6/2018 0:27:58</td>\n",
       "      <td>b85c3b25cae1a1e5ffa951a50d6a8fa9</td>\n",
       "      <td>11</td>\n",
       "      <td>Маркеленкова М.Р.</td>\n",
       "      <td>м201</td>\n",
       "      <td>Эконом</td>\n",
       "      <td></td>\n",
       "      <td>основная</td>\n",
       "      <td>м</td>\n",
       "    </tr>\n",
       "    <tr>\n",
       "      <th>77</th>\n",
       "      <td>9/15/2018 11:15:01</td>\n",
       "      <td>8868ccba48b7ae13a0019130ca07c648</td>\n",
       "      <td>8</td>\n",
       "      <td>Марков Г.И</td>\n",
       "      <td>Э110</td>\n",
       "      <td>Эконом</td>\n",
       "      <td></td>\n",
       "      <td>основная</td>\n",
       "      <td>Э</td>\n",
       "    </tr>\n",
       "    <tr>\n",
       "      <th>78</th>\n",
       "      <td>9/15/2018 11:39:25</td>\n",
       "      <td>68ac03f6ae849e61c4c1e90b89ef2e31</td>\n",
       "      <td>7</td>\n",
       "      <td>Мокрова М.И.</td>\n",
       "      <td>103м</td>\n",
       "      <td>Эконом</td>\n",
       "      <td></td>\n",
       "      <td>основная</td>\n",
       "      <td>1</td>\n",
       "    </tr>\n",
       "    <tr>\n",
       "      <th>79</th>\n",
       "      <td>9/15/2018 11:38:25</td>\n",
       "      <td>dd6e827b99c111c89bb5c2c60eddab97</td>\n",
       "      <td>2</td>\n",
       "      <td>Надршена В.Р.</td>\n",
       "      <td>Э-110</td>\n",
       "      <td>Эконом</td>\n",
       "      <td></td>\n",
       "      <td>основная</td>\n",
       "      <td>Э</td>\n",
       "    </tr>\n",
       "    <tr>\n",
       "      <th>80</th>\n",
       "      <td>9/15/2018 11:20:30</td>\n",
       "      <td>3b387a08247a4d5ee99d45706b855197</td>\n",
       "      <td>11</td>\n",
       "      <td>Нестеренко В.И.</td>\n",
       "      <td>Э111</td>\n",
       "      <td>Эконом</td>\n",
       "      <td></td>\n",
       "      <td>подготовительная</td>\n",
       "      <td>Э</td>\n",
       "    </tr>\n",
       "    <tr>\n",
       "      <th>81</th>\n",
       "      <td>9/15/2018 11:23:49</td>\n",
       "      <td>156a8a99e433ee0a08db25081be5f348</td>\n",
       "      <td>5</td>\n",
       "      <td>Орлов Р.Р.</td>\n",
       "      <td>111</td>\n",
       "      <td>Эконом</td>\n",
       "      <td></td>\n",
       "      <td>подготовительная</td>\n",
       "      <td>1</td>\n",
       "    </tr>\n",
       "    <tr>\n",
       "      <th>82</th>\n",
       "      <td>9/15/2018 11:12:06</td>\n",
       "      <td>16ff03a85b048a7a4a32705d054d63f6</td>\n",
       "      <td>8</td>\n",
       "      <td>Паламарчук Е. М.</td>\n",
       "      <td>106э</td>\n",
       "      <td>Эконом</td>\n",
       "      <td></td>\n",
       "      <td>подготовительная</td>\n",
       "      <td>1</td>\n",
       "    </tr>\n",
       "    <tr>\n",
       "      <th>83</th>\n",
       "      <td>9/15/2018 11:18:11</td>\n",
       "      <td>24ecc24aefcb9e30da13a7eb4f6a4b5b</td>\n",
       "      <td>8</td>\n",
       "      <td>Печикин М. П.</td>\n",
       "      <td>103э</td>\n",
       "      <td>Эконом</td>\n",
       "      <td></td>\n",
       "      <td>подготовительная</td>\n",
       "      <td>1</td>\n",
       "    </tr>\n",
       "    <tr>\n",
       "      <th>84</th>\n",
       "      <td>9/15/2018 11:15:00</td>\n",
       "      <td>8c4f009ccfab5c625e70bef09f19a579</td>\n",
       "      <td>8</td>\n",
       "      <td>Семенов Д. Д.</td>\n",
       "      <td>э105</td>\n",
       "      <td>Эконом</td>\n",
       "      <td></td>\n",
       "      <td>основная</td>\n",
       "      <td>э</td>\n",
       "    </tr>\n",
       "    <tr>\n",
       "      <th>85</th>\n",
       "      <td>9/15/2018 9:31:30</td>\n",
       "      <td>bc06d6d8cdb1afbc9e7adaa1a78aa717</td>\n",
       "      <td>23</td>\n",
       "      <td>Слободчиков К. А.</td>\n",
       "      <td>М203</td>\n",
       "      <td>Эконом</td>\n",
       "      <td></td>\n",
       "      <td>основная</td>\n",
       "      <td>М</td>\n",
       "    </tr>\n",
       "    <tr>\n",
       "      <th>86</th>\n",
       "      <td>9/15/2018 11:17:35</td>\n",
       "      <td>e2d7494308360452bd4398b447cec0f9</td>\n",
       "      <td>6</td>\n",
       "      <td>Тан ифань</td>\n",
       "      <td>m107</td>\n",
       "      <td>Эконом</td>\n",
       "      <td></td>\n",
       "      <td>основная</td>\n",
       "      <td>m</td>\n",
       "    </tr>\n",
       "    <tr>\n",
       "      <th>87</th>\n",
       "      <td>9/15/2018 11:41:06</td>\n",
       "      <td>2cb172a7a3f5e9e7c3768eb610bc2636</td>\n",
       "      <td>1</td>\n",
       "      <td>Чэнь Чжисюань</td>\n",
       "      <td>М106</td>\n",
       "      <td>Эконом</td>\n",
       "      <td></td>\n",
       "      <td>основная</td>\n",
       "      <td>М</td>\n",
       "    </tr>\n",
       "    <tr>\n",
       "      <th>88</th>\n",
       "      <td>9/15/2018 11:26:03</td>\n",
       "      <td>56e48a4425b75619d06dd174ec398543</td>\n",
       "      <td>11</td>\n",
       "      <td>Шучев Н.В.</td>\n",
       "      <td>М103</td>\n",
       "      <td>Эконом</td>\n",
       "      <td></td>\n",
       "      <td>основная</td>\n",
       "      <td>М</td>\n",
       "    </tr>\n",
       "    <tr>\n",
       "      <th>89</th>\n",
       "      <td>9/15/2018 11:28:02</td>\n",
       "      <td>47ddc6c2155664604ba151f034a30fd4</td>\n",
       "      <td>1</td>\n",
       "      <td>Юань Ченьчжао</td>\n",
       "      <td>106</td>\n",
       "      <td>Эконом</td>\n",
       "      <td></td>\n",
       "      <td>основная</td>\n",
       "      <td>1</td>\n",
       "    </tr>\n",
       "    <tr>\n",
       "      <th>90</th>\n",
       "      <td>9/3/2018 11:39:52</td>\n",
       "      <td>cf0e82b7d04e4d2dd43ca52b706df9ac</td>\n",
       "      <td>0</td>\n",
       "      <td></td>\n",
       "      <td></td>\n",
       "      <td></td>\n",
       "      <td></td>\n",
       "      <td></td>\n",
       "      <td></td>\n",
       "    </tr>\n",
       "    <tr>\n",
       "      <th>91</th>\n",
       "      <td>8/31/2018 21:09:25</td>\n",
       "      <td>51668d0ebb8f084a2bd77ad8ed4c050f</td>\n",
       "      <td>1</td>\n",
       "      <td></td>\n",
       "      <td></td>\n",
       "      <td></td>\n",
       "      <td></td>\n",
       "      <td></td>\n",
       "      <td></td>\n",
       "    </tr>\n",
       "    <tr>\n",
       "      <th>92</th>\n",
       "      <td>9/1/2018 19:02:57</td>\n",
       "      <td>d5f82f7e3a4364a280822f1553621664</td>\n",
       "      <td>2</td>\n",
       "      <td></td>\n",
       "      <td></td>\n",
       "      <td></td>\n",
       "      <td></td>\n",
       "      <td></td>\n",
       "      <td></td>\n",
       "    </tr>\n",
       "    <tr>\n",
       "      <th>93</th>\n",
       "      <td>9/1/2018 22:57:02</td>\n",
       "      <td>804fec2f7f7d8bda8064ed2fb1047a64</td>\n",
       "      <td>2</td>\n",
       "      <td></td>\n",
       "      <td></td>\n",
       "      <td></td>\n",
       "      <td></td>\n",
       "      <td></td>\n",
       "      <td></td>\n",
       "    </tr>\n",
       "    <tr>\n",
       "      <th>94</th>\n",
       "      <td>8/31/2018 21:57:02</td>\n",
       "      <td>ccc866e07d6f4d4ebfb9fbf35aea2c77</td>\n",
       "      <td>3</td>\n",
       "      <td></td>\n",
       "      <td></td>\n",
       "      <td></td>\n",
       "      <td></td>\n",
       "      <td></td>\n",
       "      <td></td>\n",
       "    </tr>\n",
       "    <tr>\n",
       "      <th>95</th>\n",
       "      <td>9/1/2018 10:25:44</td>\n",
       "      <td>e933c90cee7ac50ae417170b10891d28</td>\n",
       "      <td>3</td>\n",
       "      <td></td>\n",
       "      <td></td>\n",
       "      <td></td>\n",
       "      <td></td>\n",
       "      <td></td>\n",
       "      <td></td>\n",
       "    </tr>\n",
       "  </tbody>\n",
       "</table>\n",
       "<p>96 rows × 9 columns</p>\n",
       "</div>"
      ],
      "text/plain": [
       "             Timestamp                               key  test_rool  \\\n",
       "0    9/4/2018 12:12:35  98937156f7fa66285d0a45ff6b675a51          5   \n",
       "1   9/21/2018 10:47:21  69a302a1e4948ccd6ceef0969642165d         10   \n",
       "2    9/8/2018 13:23:30  ea124424181caae9d3b59b7f3852b33b         24   \n",
       "3    9/5/2018 21:05:23  83a0b25fb3f6a9e8b855ba721063a57d         13   \n",
       "4    9/4/2018 23:01:51  d3ba39bad34c57d41350f16f2e7aef5d         16   \n",
       "5    9/20/2018 0:09:12  4b74edf16084b48aaee12091cd184992         10   \n",
       "6    9/5/2018 17:38:30  3f30ed35239ad67c1fd3209c5a6b6b98         13   \n",
       "7   9/21/2018 23:11:06  6afaa8ad15c0829fe00f7141ff5dfb40          9   \n",
       "8    9/8/2018 13:43:51  bf937329cfa2bc22aefd71dacc11269e         19   \n",
       "9   9/15/2018 21:42:29  463597944bd1d764b15fc0eb3cbd41c7         19   \n",
       "10   9/8/2018 18:33:19  531e6452b926e27155c0a9e5c3fa9a0d         24   \n",
       "11  9/29/2018 13:02:32  d468770bd01e255822a94f7f48c0e128          3   \n",
       "12   9/8/2018 12:34:27  55d875f5fd5a17ae395a03b687c0ac10         20   \n",
       "13   9/4/2018 22:54:59  95ae2860592fe85506b48836399d8a85         23   \n",
       "14   9/8/2018 13:27:41  61ce307f89652db89651839f533ba4c4         18   \n",
       "15  9/21/2018 23:31:12  122a13b70c457b05858b7c7a27ac420d         20   \n",
       "16   9/4/2018 23:20:14  74d6626ab73806ec762226bdc3950dbc         23   \n",
       "17  9/11/2018 20:05:55  f17f6ee12930ec1d61246b64d12988c7         21   \n",
       "18   9/19/2018 9:26:24  6cacbf1b6fe9a53c0e616598f92f0e09         12   \n",
       "19   9/5/2018 17:31:44  cc7a52b56a694c10928ca51e8bca5ae9         20   \n",
       "20   9/4/2018 18:57:35  f27f6a11a034df23fbf2310a5db04f69          6   \n",
       "21   9/21/2018 8:08:58  dc60470dabae6e859aa3f16514a595db         20   \n",
       "22   9/8/2018 13:36:33  98937156f7fa66285d0a45ff6b675a51         21   \n",
       "23  9/21/2018 11:20:02  078e3c820c94f2f142e433bb161e57df         18   \n",
       "24   9/8/2018 13:31:40  058e6203363f1bca387461363932e365         18   \n",
       "25   9/4/2018 13:43:48  a389314e1095c6be09b2de9466f162e8         21   \n",
       "26   9/8/2018 13:19:48  882b4c9c457a52823e7e2a1a4d5f8456         19   \n",
       "27  9/18/2018 21:52:19  789707242dc6dc20add7f60f82352195         21   \n",
       "28   9/8/2018 13:34:39  da01f561d850903d3483e8ae9739ed1f         21   \n",
       "29  9/17/2018 20:44:20  6e4064063a4f84d723b8ba6d7f5d4694         17   \n",
       "..                 ...                               ...        ...   \n",
       "66  9/15/2018 11:16:41  8e99c709bedeab96bdf48d4e75acf9aa          4   \n",
       "67  9/15/2018 11:33:12  2adec8f795bae66c42e2724113a8df87          5   \n",
       "68  9/15/2018 11:58:21  27ec2db791c08619ed02dc319c44acd4          2   \n",
       "69  9/15/2018 12:10:10  f9d256fd7012e18cccd03be0fea92143         20   \n",
       "70  9/15/2018 11:20:07  0642755b13256955ea10e1edadaa647c         18   \n",
       "71   9/15/2018 9:18:42  2df054d8f80813e28fe55ff9f1c41ba8         18   \n",
       "72  9/15/2018 11:27:23  37f5618e2b5bfd13430ccb80103cf21f          4   \n",
       "73  9/15/2018 10:54:30  9a8ea478e85aff93515f33d5da1e39c6          8   \n",
       "74  9/15/2018 11:28:14  49758bfa03e23237ead22c47661cb858         14   \n",
       "75  9/15/2018 10:54:17  10798226dc58de1fa746ddec20b84b90          6   \n",
       "76    9/6/2018 0:27:58  b85c3b25cae1a1e5ffa951a50d6a8fa9         11   \n",
       "77  9/15/2018 11:15:01  8868ccba48b7ae13a0019130ca07c648          8   \n",
       "78  9/15/2018 11:39:25  68ac03f6ae849e61c4c1e90b89ef2e31          7   \n",
       "79  9/15/2018 11:38:25  dd6e827b99c111c89bb5c2c60eddab97          2   \n",
       "80  9/15/2018 11:20:30  3b387a08247a4d5ee99d45706b855197         11   \n",
       "81  9/15/2018 11:23:49  156a8a99e433ee0a08db25081be5f348          5   \n",
       "82  9/15/2018 11:12:06  16ff03a85b048a7a4a32705d054d63f6          8   \n",
       "83  9/15/2018 11:18:11  24ecc24aefcb9e30da13a7eb4f6a4b5b          8   \n",
       "84  9/15/2018 11:15:00  8c4f009ccfab5c625e70bef09f19a579          8   \n",
       "85   9/15/2018 9:31:30  bc06d6d8cdb1afbc9e7adaa1a78aa717         23   \n",
       "86  9/15/2018 11:17:35  e2d7494308360452bd4398b447cec0f9          6   \n",
       "87  9/15/2018 11:41:06  2cb172a7a3f5e9e7c3768eb610bc2636          1   \n",
       "88  9/15/2018 11:26:03  56e48a4425b75619d06dd174ec398543         11   \n",
       "89  9/15/2018 11:28:02  47ddc6c2155664604ba151f034a30fd4          1   \n",
       "90   9/3/2018 11:39:52  cf0e82b7d04e4d2dd43ca52b706df9ac          0   \n",
       "91  8/31/2018 21:09:25  51668d0ebb8f084a2bd77ad8ed4c050f          1   \n",
       "92   9/1/2018 19:02:57  d5f82f7e3a4364a280822f1553621664          2   \n",
       "93   9/1/2018 22:57:02  804fec2f7f7d8bda8064ed2fb1047a64          2   \n",
       "94  8/31/2018 21:57:02  ccc866e07d6f4d4ebfb9fbf35aea2c77          3   \n",
       "95   9/1/2018 10:25:44  e933c90cee7ac50ae417170b10891d28          3   \n",
       "\n",
       "               suname  group Факультет  \\\n",
       "0                 а а      1   Физифак   \n",
       "1        Агапова Д.А.    103   Физифак   \n",
       "2   Альперович К. Д.     209   Физифак   \n",
       "3        Андреев А.А.    212   Физифак   \n",
       "4         Беляев М.Е.    203   Физифак   \n",
       "5       Бердышев Р.В.    103   Физифак   \n",
       "6        Власов В. А.    105   Физифак   \n",
       "7       Гаврилов В.Р.    105   Физифак   \n",
       "8         Гатина М.И.    212   Физифак   \n",
       "9        Давыдов Д.А.   225м   Физифак   \n",
       "10       Давыдов М.М.    210   Физифак   \n",
       "11        Дубровский     106   Физифак   \n",
       "12      Ермолаев Н.А.    305   Физифак   \n",
       "13      Ерофеева А.В.    213   Физифак   \n",
       "14      Жариков В.И.     209   Физифак   \n",
       "15       Зверев А. А.    209   Физифак   \n",
       "16     Зимнякова П.Е.    218   Физифак   \n",
       "17          Зуев Н.В.    207   Физифак   \n",
       "18      Ильиных Д. И.    108   Физифак   \n",
       "19     Иноземцев М.А.   229м   Физифак   \n",
       "20      Казаркин Д.М.    207   Физифак   \n",
       "21  Коноплицкий В. В.    109   Физифак   \n",
       "22        Король А.К.    205   Физифак   \n",
       "23    Короткова Т. А.    110   Физифак   \n",
       "24     Костенко Т. М.    206   Физифак   \n",
       "25         Кулёв М.С.    202   Физифак   \n",
       "26       Лабунов А.С.    209   Физифак   \n",
       "27       Лаптев Р. А.    109   Физифак   \n",
       "28     Лукманов A. Р.    210   Физифак   \n",
       "29       Мозеров Д.М.    110   Физифак   \n",
       "..                ...    ...       ...   \n",
       "66           Го Цзянь   M106    Эконом   \n",
       "67      Гундарь. Д.В.   101м    Эконом   \n",
       "68        Егоров М.В.   М104    Эконом   \n",
       "69       Жуков М. А.    203э    Эконом   \n",
       "70     Каменский Е.Д.   э105    Эконом   \n",
       "71      Кокряцкая Д.В    202    Эконом   \n",
       "72       Королев Т.Ю.    109    Эконом   \n",
       "73       Кочерин Н.А.   э101    Эконом   \n",
       "74      Куданова А.И.   Э102    Эконом   \n",
       "75         Мазов Н.В.   Э101    Эконом   \n",
       "76  Маркеленкова М.Р.   м201    Эконом   \n",
       "77         Марков Г.И   Э110    Эконом   \n",
       "78       Мокрова М.И.   103м    Эконом   \n",
       "79      Надршена В.Р.  Э-110    Эконом   \n",
       "80    Нестеренко В.И.   Э111    Эконом   \n",
       "81         Орлов Р.Р.    111    Эконом   \n",
       "82   Паламарчук Е. М.   106э    Эконом   \n",
       "83      Печикин М. П.   103э    Эконом   \n",
       "84      Семенов Д. Д.   э105    Эконом   \n",
       "85  Слободчиков К. А.   М203    Эконом   \n",
       "86         Тан ифань    m107    Эконом   \n",
       "87     Чэнь Чжисюань    М106    Эконом   \n",
       "88         Шучев Н.В.   М103    Эконом   \n",
       "89     Юань Ченьчжао     106    Эконом   \n",
       "90                                       \n",
       "91                                       \n",
       "92                                       \n",
       "93                                       \n",
       "94                                       \n",
       "95                                       \n",
       "\n",
       "                              Фото справки медосмотра  \\\n",
       "0                                                       \n",
       "1   https://drive.google.com/open?id=1z9-r983B5H49...   \n",
       "2                                                       \n",
       "3                                                       \n",
       "4                                                       \n",
       "5   https://drive.google.com/open?id=1vd0LAAZZZ_7q...   \n",
       "6   https://drive.google.com/open?id=1awIIbAu-_t5Z...   \n",
       "7   https://drive.google.com/open?id=1JZpGOjhIklCF...   \n",
       "8                                                       \n",
       "9                                                       \n",
       "10                                                      \n",
       "11                                                      \n",
       "12                                                      \n",
       "13                                                      \n",
       "14                                                      \n",
       "15                                                      \n",
       "16                                                      \n",
       "17                                                      \n",
       "18                                                      \n",
       "19                                                      \n",
       "20                                                      \n",
       "21                                                      \n",
       "22                                                      \n",
       "23  https://drive.google.com/open?id=11iD-0xLpsdAl...   \n",
       "24                                                      \n",
       "25  https://drive.google.com/open?id=1CM9y-ONWc8hl...   \n",
       "26                                                      \n",
       "27                                                      \n",
       "28  https://drive.google.com/open?id=1F2Lm_lp_viGt...   \n",
       "29  https://drive.google.com/open?id=1Gq3nixgod91F...   \n",
       "..                                                ...   \n",
       "66                                                      \n",
       "67                                                      \n",
       "68                                                      \n",
       "69                                                      \n",
       "70                                                      \n",
       "71                                                      \n",
       "72                                                      \n",
       "73                                                      \n",
       "74                                                      \n",
       "75                                                      \n",
       "76                                                      \n",
       "77                                                      \n",
       "78                                                      \n",
       "79                                                      \n",
       "80                                                      \n",
       "81                                                      \n",
       "82                                                      \n",
       "83                                                      \n",
       "84                                                      \n",
       "85                                                      \n",
       "86                                                      \n",
       "87                                                      \n",
       "88                                                      \n",
       "89                                                      \n",
       "90                                                      \n",
       "91                                                      \n",
       "92                                                      \n",
       "93                                                      \n",
       "94                                                      \n",
       "95                                                      \n",
       "\n",
       "   Медицинская группа (на загруженной справке)  cource  \n",
       "0                                      основная      1  \n",
       "1                                      основная      1  \n",
       "2                                      основная      2  \n",
       "3                                      основная      2  \n",
       "4                                      основная      2  \n",
       "5                                      основная      1  \n",
       "6                                      основная      1  \n",
       "7                                      основная      1  \n",
       "8                                      основная      2  \n",
       "9                                      основная      2  \n",
       "10                                     основная      2  \n",
       "11                                  специальная      1  \n",
       "12                                     основная      3  \n",
       "13                                     основная      2  \n",
       "14                                     основная      2  \n",
       "15                             подготовительная      2  \n",
       "16                                     основная      2  \n",
       "17                                     основная      2  \n",
       "18                                     основная      1  \n",
       "19                                     основная      2  \n",
       "20                                     основная      2  \n",
       "21                                     основная      1  \n",
       "22                                     основная      2  \n",
       "23                             подготовительная      1  \n",
       "24                                     основная      2  \n",
       "25                                     основная      2  \n",
       "26                                     основная      2  \n",
       "27                             подготовительная      1  \n",
       "28                             подготовительная      2  \n",
       "29                                     основная      1  \n",
       "..                                          ...    ...  \n",
       "66                                     основная      M  \n",
       "67                                     основная      1  \n",
       "68                                     основная      М  \n",
       "69                                     основная      2  \n",
       "70                                     основная      э  \n",
       "71                                     основная      2  \n",
       "72                                     основная      1  \n",
       "73                                     основная      э  \n",
       "74                                     основная      Э  \n",
       "75                                     основная      Э  \n",
       "76                                     основная      м  \n",
       "77                                     основная      Э  \n",
       "78                                     основная      1  \n",
       "79                                     основная      Э  \n",
       "80                             подготовительная      Э  \n",
       "81                             подготовительная      1  \n",
       "82                             подготовительная      1  \n",
       "83                             подготовительная      1  \n",
       "84                                     основная      э  \n",
       "85                                     основная      М  \n",
       "86                                     основная      m  \n",
       "87                                     основная      М  \n",
       "88                                     основная      М  \n",
       "89                                     основная      1  \n",
       "90                                                      \n",
       "91                                                      \n",
       "92                                                      \n",
       "93                                                      \n",
       "94                                                      \n",
       "95                                                      \n",
       "\n",
       "[96 rows x 9 columns]"
      ]
     },
     "execution_count": 20,
     "metadata": {},
     "output_type": "execute_result"
    }
   ],
   "source": [
    "df"
   ]
  },
  {
   "cell_type": "code",
   "execution_count": null,
   "metadata": {},
   "outputs": [],
   "source": []
  },
  {
   "cell_type": "code",
   "execution_count": 42,
   "metadata": {},
   "outputs": [],
   "source": [
    "#get list with same property (as faculty and test_rool > 10 )\n",
    "#TODO for group filter 201m?\n",
    "ndf = util.get_row_by_keys(df, key_value=['Химфак', '2'], key_column=['Факультет','cource'])\n",
    "ndf = util.get_row_by_keys(df, ['10',], ['test_rool'], ratio=\">\")"
   ]
  },
  {
   "cell_type": "code",
   "execution_count": null,
   "metadata": {},
   "outputs": [],
   "source": [
    "# add dates to dataframe\n",
    "col_name=['key', 'suname', 'test_rool', 'group']\n",
    "dates = util.get_dates(3,3,7)\n",
    "df2 = pd.DataFrame(\n",
    "            [[''] * len(dates)], \n",
    "            index=df.index, \n",
    "            columns=dates\n",
    "        )\n",
    "ndf = pd.concat([ndf[col_name], df2], axis=1)"
   ]
  },
  {
   "cell_type": "code",
   "execution_count": null,
   "metadata": {},
   "outputs": [],
   "source": [
    "##get needed col\n",
    "#col_name=['key', 'suname', 'test_rool', 'group']\n",
    "df#[col_name]"
   ]
  },
  {
   "cell_type": "code",
   "execution_count": null,
   "metadata": {},
   "outputs": [],
   "source": [
    "import PandasForm, SyncGraph\n"
   ]
  },
  {
   "cell_type": "code",
   "execution_count": null,
   "metadata": {},
   "outputs": [],
   "source": [
    "def search_id_in_list(list_sheets, name):\n",
    "    for sheet in list_sheets:\n",
    "        if sheet['name'] == name:\n",
    "            return sheet['id']\n",
    "    return None"
   ]
  },
  {
   "cell_type": "code",
   "execution_count": null,
   "metadata": {},
   "outputs": [],
   "source": [
    "# check add key or create new form\n",
    "folder_id='1OnF9ZpSiO5IYB4Ns15PZgsTc14DVRr3z'\n",
    "tittle=\"hf2\"\n",
    "fc = PandasForm.FormCreator(title=tittle, folder_id=folder_id)\n",
    "if fc.check_shet_in_folder(pg=c, sheet_name=fc.title):\n",
    "    # update with insert key\n",
    "    sg = SyncGraph.Graph(None)\n",
    "    wks = c.open_by_key(search_id_in_list(c.list_ssheets(folder_id), tittle))\n",
    "    sg.add_key(df, wks.sheet1, key_col=['key']) #.sheet1\n",
    "    args = {\"to_key_colname\": [\"key\",], \n",
    "            \"to_values_colname\": ['suname', 'test_rool', 'group'],            \n",
    "           }\n",
    "    util.sync_by_colname(from_wks=df[col_name], to_wks=wks.sheet1, **args)\n",
    "else:\n",
    "    #create new\n",
    "    fc.df = df #[col_name]\n",
    "    fc.create_sheet(pg=c)"
   ]
  },
  {
   "cell_type": "code",
   "execution_count": 51,
   "metadata": {},
   "outputs": [],
   "source": [
    "\n",
    "q = 'kamironova2012@yandex.ru'"
   ]
  },
  {
   "cell_type": "code",
   "execution_count": 52,
   "metadata": {},
   "outputs": [
    {
     "data": {
      "text/plain": [
       "'9f38155d1f444829a49df7995ff083c1'"
      ]
     },
     "execution_count": 52,
     "metadata": {},
     "output_type": "execute_result"
    }
   ],
   "source": [
    "\n",
    "hashlib.md5(q.encode('UTF-8')).hexdigest()"
   ]
  },
  {
   "cell_type": "code",
   "execution_count": 48,
   "metadata": {},
   "outputs": [],
   "source": [
    "#util.get_dates(5,3,7)"
   ]
  },
  {
   "cell_type": "markdown",
   "metadata": {},
   "source": [
    "# Generate teams"
   ]
  },
  {
   "cell_type": "code",
   "execution_count": null,
   "metadata": {},
   "outputs": [],
   "source": [
    "import datetime\n",
    "todaydate = datetime.datetime.now().strftime(\"%m-%d\")\n",
    "tomorow = df.columns[df.columns.get_loc(todaydate) + 1]\n",
    "today_col_ind = df.columns.get_loc(todaydate)"
   ]
  },
  {
   "cell_type": "code",
   "execution_count": null,
   "metadata": {},
   "outputs": [],
   "source": [
    "folder_id='1OnF9ZpSiO5IYB4Ns15PZgsTc14DVRr3z'\n",
    "tittle = 'ff2'\n",
    "wks = c.open_by_key(search_id_in_list(c.list_ssheets(folder_id), tittle))"
   ]
  },
  {
   "cell_type": "code",
   "execution_count": null,
   "metadata": {},
   "outputs": [],
   "source": [
    "players_count = sum([int(s or 0) for s in freshdf[todaydate]])"
   ]
  },
  {
   "cell_type": "code",
   "execution_count": null,
   "metadata": {},
   "outputs": [],
   "source": [
    "if players_count % 3 == 0:\n",
    "    teams_count = players_count / 3 - 1\n",
    "else:\n",
    "    teams_count = players_count // 3"
   ]
  },
  {
   "cell_type": "code",
   "execution_count": null,
   "metadata": {},
   "outputs": [],
   "source": [
    "team_names = \"abcdefghigklmnopq\"\n",
    "players_count / 3\n",
    "team_list = []\n",
    "for i in team_names[:teams_count]:\n",
    "    team_list.extend(list(i * 3))\n",
    "team_list.extend(list('R' * (players_count % 3 or 3)))"
   ]
  },
  {
   "cell_type": "code",
   "execution_count": null,
   "metadata": {},
   "outputs": [],
   "source": [
    "import random\n",
    "random.shuffle(team_list)"
   ]
  },
  {
   "cell_type": "code",
   "execution_count": null,
   "metadata": {},
   "outputs": [],
   "source": [
    "i = 0\n",
    "for ind, v in enumerate(freshdf[todaydate]):\n",
    "    if v:\n",
    "        freshdf[tomorow][ind] = team_list[i]\n",
    "        i += 1"
   ]
  },
  {
   "cell_type": "code",
   "execution_count": null,
   "metadata": {},
   "outputs": [],
   "source": [
    "freshdf = wks.sheet1.get_as_df()"
   ]
  },
  {
   "cell_type": "code",
   "execution_count": null,
   "metadata": {},
   "outputs": [],
   "source": [
    "freshdf['today'] = freshdf[todaydate]"
   ]
  },
  {
   "cell_type": "code",
   "execution_count": null,
   "metadata": {},
   "outputs": [],
   "source": [
    "util.get_row_by_keys(freshdf, key_column=['today',], key_value=[1,])"
   ]
  },
  {
   "cell_type": "code",
   "execution_count": null,
   "metadata": {},
   "outputs": [],
   "source": [
    "freshdf"
   ]
  },
  {
   "cell_type": "code",
   "execution_count": null,
   "metadata": {},
   "outputs": [],
   "source": []
  },
  {
   "cell_type": "code",
   "execution_count": null,
   "metadata": {},
   "outputs": [],
   "source": [
    "wks.sheet1.update_col(index=today_col_ind + 2,row_offset=1,values=freshdf[tomorow].values.tolist())"
   ]
  },
  {
   "cell_type": "code",
   "execution_count": null,
   "metadata": {},
   "outputs": [],
   "source": []
  },
  {
   "cell_type": "code",
   "execution_count": null,
   "metadata": {},
   "outputs": [],
   "source": [
    "#col location\n",
    "today_col_ind = df.columns.get_loc(todaydate)\n",
    "df[df.columns[today_col_ind]]"
   ]
  },
  {
   "cell_type": "code",
   "execution_count": null,
   "metadata": {},
   "outputs": [],
   "source": [
    "fc = PandasForm.FormCreator(title=\"ff2\", folder_id='1OnF9ZpSiO5IYB4Ns15PZgsTc14DVRr3z')\n",
    "fc.df = df[col_name]\n",
    "fc.create_sheet(pg=c)"
   ]
  },
  {
   "cell_type": "code",
   "execution_count": null,
   "metadata": {},
   "outputs": [],
   "source": [
    "c.list_ssheets(parent_id='1OnF9ZpSiO5IYB4Ns15PZgsTc14DVRr3z')"
   ]
  },
  {
   "cell_type": "code",
   "execution_count": null,
   "metadata": {},
   "outputs": [],
   "source": [
    "sh = c.open('ff2')"
   ]
  },
  {
   "cell_type": "code",
   "execution_count": null,
   "metadata": {},
   "outputs": [],
   "source": [
    "sh.sheet1.get_as_df()"
   ]
  },
  {
   "cell_type": "code",
   "execution_count": null,
   "metadata": {},
   "outputs": [],
   "source": [
    "score_to_int(df[\"Score\"][0]) > 19"
   ]
  },
  {
   "cell_type": "code",
   "execution_count": null,
   "metadata": {},
   "outputs": [],
   "source": [
    "from GDrive import GDrive\n",
    "g = GDrive(sheet_id='1cWN-sMoaV_5NjWTcjryRx-6uxi29K9KaWt5vHa9vQog',\n",
    "                   graph='1at8ivfcSDq3W_LFdwzFqVuYfQ27c18Ka-F1Cpen844g'\n",
    "                   )\n",
    "#g.generate(category=['Секция', 'Факультет'], keys=['ФИО', 'Группа'],\n",
    "#                   current_folder='19PZiIxtt9nvLDHst4EZp-FMWYQO4yrKa',\n",
    "#                   graph_wks=util.read_sheet('1ZR38L8tFMdUTODVQ0cdz79jPKX4xpNn7R11S82u5Jyk'))"
   ]
  },
  {
   "cell_type": "markdown",
   "metadata": {},
   "source": [
    "# Add Points for Relay"
   ]
  },
  {
   "cell_type": "markdown",
   "metadata": {},
   "source": [
    "Form sheet add date label. Only one ref can send all winners data for lesson. If date today or early read it and mark as red. Then remove teams from main list and protect it"
   ]
  },
  {
   "cell_type": "code",
   "execution_count": 21,
   "metadata": {},
   "outputs": [],
   "source": [
    "from TransferFunctions import BasketballResults\n",
    "bres = BasketballResults('1GUCw3XNS0zWYgjv6dUACc5IoteSYft3DRW58vrDCIKA')"
   ]
  },
  {
   "cell_type": "code",
   "execution_count": 7,
   "metadata": {},
   "outputs": [
    {
     "data": {
      "text/plain": [
       "<module 'TransferFunctions' from '/home/denis/Program/graph2/TransferFunctions.py'>"
      ]
     },
     "execution_count": 7,
     "metadata": {},
     "output_type": "execute_result"
    }
   ],
   "source": [
    "import importlib\n",
    "\n",
    "importlib.reload(TransferFunctions)"
   ]
  },
  {
   "cell_type": "code",
   "execution_count": 4,
   "metadata": {},
   "outputs": [],
   "source": [
    "import TransferFunctions"
   ]
  },
  {
   "cell_type": "code",
   "execution_count": 8,
   "metadata": {},
   "outputs": [],
   "source": [
    "bres = TransferFunctions.BasketballResults('1GUCw3XNS0zWYgjv6dUACc5IoteSYft3DRW58vrDCIKA')\n",
    "df = bres.get_df()\n"
   ]
  },
  {
   "cell_type": "code",
   "execution_count": 9,
   "metadata": {},
   "outputs": [
    {
     "data": {
      "text/html": [
       "<div>\n",
       "<style scoped>\n",
       "    .dataframe tbody tr th:only-of-type {\n",
       "        vertical-align: middle;\n",
       "    }\n",
       "\n",
       "    .dataframe tbody tr th {\n",
       "        vertical-align: top;\n",
       "    }\n",
       "\n",
       "    .dataframe thead th {\n",
       "        text-align: right;\n",
       "    }\n",
       "</style>\n",
       "<table border=\"1\" class=\"dataframe\">\n",
       "  <thead>\n",
       "    <tr style=\"text-align: right;\">\n",
       "      <th></th>\n",
       "      <th>Timestamp</th>\n",
       "      <th>ref1</th>\n",
       "      <th>ref23</th>\n",
       "      <th>faculty</th>\n",
       "      <th>relay_1</th>\n",
       "      <th>relay_2</th>\n",
       "      <th>relay_3</th>\n",
       "      <th>relay_4</th>\n",
       "      <th>relay_5</th>\n",
       "      <th>relay_6</th>\n",
       "      <th>relay_7</th>\n",
       "      <th>marked</th>\n",
       "    </tr>\n",
       "  </thead>\n",
       "  <tbody>\n",
       "    <tr>\n",
       "      <th>0</th>\n",
       "      <td>9/14/2018 16:11:41</td>\n",
       "      <td>ffbskt@gmail.com</td>\n",
       "      <td>msufizra@gmail.com</td>\n",
       "      <td>Физики2</td>\n",
       "      <td>bce</td>\n",
       "      <td>eba</td>\n",
       "      <td></td>\n",
       "      <td></td>\n",
       "      <td></td>\n",
       "      <td></td>\n",
       "      <td></td>\n",
       "      <td></td>\n",
       "    </tr>\n",
       "    <tr>\n",
       "      <th>1</th>\n",
       "      <td>9/14/2018 16:55:35</td>\n",
       "      <td>ffbskt@gmail.com</td>\n",
       "      <td></td>\n",
       "      <td>Физики2</td>\n",
       "      <td>abc</td>\n",
       "      <td></td>\n",
       "      <td></td>\n",
       "      <td></td>\n",
       "      <td></td>\n",
       "      <td></td>\n",
       "      <td></td>\n",
       "      <td></td>\n",
       "    </tr>\n",
       "  </tbody>\n",
       "</table>\n",
       "</div>"
      ],
      "text/plain": [
       "            Timestamp              ref1               ref23  faculty relay_1  \\\n",
       "0  9/14/2018 16:11:41  ffbskt@gmail.com  msufizra@gmail.com  Физики2     bce   \n",
       "1  9/14/2018 16:55:35  ffbskt@gmail.com                      Физики2     abc   \n",
       "\n",
       "  relay_2 relay_3 relay_4 relay_5 relay_6 relay_7 marked  \n",
       "0     eba                                                 \n",
       "1                                                         "
      ]
     },
     "execution_count": 9,
     "metadata": {},
     "output_type": "execute_result"
    }
   ],
   "source": [
    "df"
   ]
  },
  {
   "cell_type": "code",
   "execution_count": 36,
   "metadata": {},
   "outputs": [],
   "source": [
    "ref_point = 2\n",
    "# df \n",
    "for row in df.iterrows():\n",
    "    ans = []\n",
    "    #print(row[1][11])\n",
    "    if row[1][11] and int(row[1][11]) < 12:\n",
    "        print(row[10])\n",
    "        if int(row[1][11]) == 1: # add ref keys\n",
    "            ans.extend([(mail_hesh(q), ref_point) for q in row[1][2].split()]) \n",
    "            #mark wks 2\n",
    "        for i in range(min(4, row[1][11]), 11):\n",
    "            print(row[1][i])\n",
    "            #ans.extend(#teampoints)\n",
    "                \n",
    "    elif:\n",
    "        ans.append(ref_point)\n",
    "        ans.extend([(mail_hesh(q), ref_point) for q in row[1][2].split()])\n",
    "        \n",
    "        "
   ]
  },
  {
   "cell_type": "code",
   "execution_count": 13,
   "metadata": {},
   "outputs": [
    {
     "data": {
      "text/plain": [
       "Index(['ref1'], dtype='object')"
      ]
     },
     "execution_count": 13,
     "metadata": {},
     "output_type": "execute_result"
    }
   ],
   "source": [
    "df.columns[[1]]"
   ]
  },
  {
   "cell_type": "code",
   "execution_count": 21,
   "metadata": {},
   "outputs": [
    {
     "data": {
      "text/plain": [
       "[]"
      ]
     },
     "execution_count": 21,
     "metadata": {},
     "output_type": "execute_result"
    }
   ],
   "source": [
    "a = ''\n",
    "[(mail_hesh(q), 2) for q in a.split()]"
   ]
  },
  {
   "cell_type": "code",
   "execution_count": 42,
   "metadata": {},
   "outputs": [
    {
     "data": {
      "text/plain": [
       "[1, 2, 2, 7]"
      ]
     },
     "execution_count": 42,
     "metadata": {},
     "output_type": "execute_result"
    }
   ],
   "source": [
    "[1,2] + [2, 7]"
   ]
  },
  {
   "cell_type": "code",
   "execution_count": null,
   "metadata": {},
   "outputs": [],
   "source": [
    "def add_points_by_keys(keys, edited_df, val_col, points, key_col='key'): #  df[2].split() + df[[0]]\n",
    "    for key in keys:\n",
    "        #ad .. apply( + == * points)"
   ]
  },
  {
   "cell_type": "code",
   "execution_count": null,
   "metadata": {},
   "outputs": [],
   "source": [
    "def add points_by_mails(mails, edited_df, val_col, points, key_col='key'):\n",
    "    keys = [mail_hesh(mail) for mail in mails]\n",
    "    return add_points_by_keys(keys, edited_df, val_col, points, key_col)"
   ]
  },
  {
   "cell_type": "code",
   "execution_count": null,
   "metadata": {},
   "outputs": [],
   "source": [
    "def add_points_by_teams(team_places_str, team_key_dict): #f(place)\n",
    "    for place, team in enumerate(team_places_str.split()):\n",
    "        keys = team_key_dict[team]\n",
    "        add_points_by_keys(keys, edited_df, val_col, 1 - place * 0.25, key_col)"
   ]
  },
  {
   "cell_type": "code",
   "execution_count": null,
   "metadata": {},
   "outputs": [],
   "source": [
    "fac_to_sheet = {'Физики1':'addid',\n",
    "                'Физики2':'',\n",
    "                'Экономисты1':'',\n",
    "                'Экономисты2':'',\n",
    "                'Химики1':'addid',\n",
    "                'Химики2':'1nYVmnNtnTewo8lxBklCTe1GRSzdxKgJYXgXdqiVXW0g'\n",
    "               }"
   ]
  },
  {
   "cell_type": "code",
   "execution_count": null,
   "metadata": {},
   "outputs": [],
   "source": [
    "def read_teams_result(relay_wks):\n",
    "    df = relay_wks.get_as_df()\n",
    "    \n",
    "    \n"
   ]
  },
  {
   "cell_type": "code",
   "execution_count": 54,
   "metadata": {},
   "outputs": [
    {
     "data": {
      "text/plain": [
       "0    9-14\n",
       "1    9-14\n",
       "Name: Timestamp, dtype: object"
      ]
     },
     "execution_count": 54,
     "metadata": {},
     "output_type": "execute_result"
    }
   ],
   "source": [
    "df['Timestamp'].apply(lambda x: '-'.join(x.split('/')[0:2]))"
   ]
  },
  {
   "cell_type": "code",
   "execution_count": 58,
   "metadata": {},
   "outputs": [
    {
     "ename": "TypeError",
     "evalue": "cannot convert the series to <class 'int'>",
     "output_type": "error",
     "traceback": [
      "\u001b[0;31m---------------------------------------------------------------------------\u001b[0m",
      "\u001b[0;31mTypeError\u001b[0m                                 Traceback (most recent call last)",
      "\u001b[0;32m<ipython-input-58-cfc961ef53af>\u001b[0m in \u001b[0;36m<module>\u001b[0;34m()\u001b[0m\n\u001b[0;32m----> 1\u001b[0;31m \u001b[0mdatetime\u001b[0m\u001b[0;34m.\u001b[0m\u001b[0mdatetime\u001b[0m\u001b[0;34m(\u001b[0m\u001b[0mdf\u001b[0m\u001b[0;34m[\u001b[0m\u001b[0;34m'Timestamp'\u001b[0m\u001b[0;34m]\u001b[0m\u001b[0;34m)\u001b[0m\u001b[0;34m\u001b[0m\u001b[0m\n\u001b[0m",
      "\u001b[0;32m~/anaconda3/lib/python3.6/site-packages/pandas/core/series.py\u001b[0m in \u001b[0;36mwrapper\u001b[0;34m(self)\u001b[0m\n\u001b[1;32m    110\u001b[0m             \u001b[0;32mreturn\u001b[0m \u001b[0mconverter\u001b[0m\u001b[0;34m(\u001b[0m\u001b[0mself\u001b[0m\u001b[0;34m.\u001b[0m\u001b[0miloc\u001b[0m\u001b[0;34m[\u001b[0m\u001b[0;36m0\u001b[0m\u001b[0;34m]\u001b[0m\u001b[0;34m)\u001b[0m\u001b[0;34m\u001b[0m\u001b[0m\n\u001b[1;32m    111\u001b[0m         raise TypeError(\"cannot convert the series to \"\n\u001b[0;32m--> 112\u001b[0;31m                         \"{0}\".format(str(converter)))\n\u001b[0m\u001b[1;32m    113\u001b[0m \u001b[0;34m\u001b[0m\u001b[0m\n\u001b[1;32m    114\u001b[0m     \u001b[0;32mreturn\u001b[0m \u001b[0mwrapper\u001b[0m\u001b[0;34m\u001b[0m\u001b[0m\n",
      "\u001b[0;31mTypeError\u001b[0m: cannot convert the series to <class 'int'>"
     ]
    }
   ],
   "source": [
    "datetime.datetime(df['Timestamp'])"
   ]
  },
  {
   "cell_type": "code",
   "execution_count": null,
   "metadata": {},
   "outputs": [],
   "source": [
    "self.df = self.safe_load(self.col_list)\n",
    "        self.df.rename(columns=self.col_to_rename, inplace=True)"
   ]
  },
  {
   "cell_type": "markdown",
   "metadata": {},
   "source": [
    "# Protected Range"
   ]
  },
  {
   "cell_type": "code",
   "execution_count": 54,
   "metadata": {},
   "outputs": [],
   "source": [
    "c = pygsheets.authorize(outh_file='other.json')\n"
   ]
  },
  {
   "cell_type": "code",
   "execution_count": 55,
   "metadata": {},
   "outputs": [],
   "source": [
    "wks = c.open('ch2').sheet1"
   ]
  },
  {
   "cell_type": "code",
   "execution_count": 70,
   "metadata": {},
   "outputs": [
    {
     "ename": "AttributeError",
     "evalue": "'DataRange' object has no attribute '_protected'",
     "output_type": "error",
     "traceback": [
      "\u001b[0;31m---------------------------------------------------------------------------\u001b[0m",
      "\u001b[0;31mAttributeError\u001b[0m                            Traceback (most recent call last)",
      "\u001b[0;32m~/anaconda3/envs/openlive/lib/python3.7/site-packages/IPython/core/formatters.py\u001b[0m in \u001b[0;36m__call__\u001b[0;34m(self, obj)\u001b[0m\n\u001b[1;32m    700\u001b[0m                 \u001b[0mtype_pprinters\u001b[0m\u001b[0;34m=\u001b[0m\u001b[0mself\u001b[0m\u001b[0;34m.\u001b[0m\u001b[0mtype_printers\u001b[0m\u001b[0;34m,\u001b[0m\u001b[0;34m\u001b[0m\u001b[0m\n\u001b[1;32m    701\u001b[0m                 deferred_pprinters=self.deferred_printers)\n\u001b[0;32m--> 702\u001b[0;31m             \u001b[0mprinter\u001b[0m\u001b[0;34m.\u001b[0m\u001b[0mpretty\u001b[0m\u001b[0;34m(\u001b[0m\u001b[0mobj\u001b[0m\u001b[0;34m)\u001b[0m\u001b[0;34m\u001b[0m\u001b[0m\n\u001b[0m\u001b[1;32m    703\u001b[0m             \u001b[0mprinter\u001b[0m\u001b[0;34m.\u001b[0m\u001b[0mflush\u001b[0m\u001b[0;34m(\u001b[0m\u001b[0;34m)\u001b[0m\u001b[0;34m\u001b[0m\u001b[0m\n\u001b[1;32m    704\u001b[0m             \u001b[0;32mreturn\u001b[0m \u001b[0mstream\u001b[0m\u001b[0;34m.\u001b[0m\u001b[0mgetvalue\u001b[0m\u001b[0;34m(\u001b[0m\u001b[0;34m)\u001b[0m\u001b[0;34m\u001b[0m\u001b[0m\n",
      "\u001b[0;32m~/anaconda3/envs/openlive/lib/python3.7/site-packages/IPython/lib/pretty.py\u001b[0m in \u001b[0;36mpretty\u001b[0;34m(self, obj)\u001b[0m\n\u001b[1;32m    398\u001b[0m                         \u001b[0;32mif\u001b[0m \u001b[0mcls\u001b[0m \u001b[0;32mis\u001b[0m \u001b[0;32mnot\u001b[0m \u001b[0mobject\u001b[0m\u001b[0;31m \u001b[0m\u001b[0;31m\\\u001b[0m\u001b[0;34m\u001b[0m\u001b[0m\n\u001b[1;32m    399\u001b[0m                                 \u001b[0;32mand\u001b[0m \u001b[0mcallable\u001b[0m\u001b[0;34m(\u001b[0m\u001b[0mcls\u001b[0m\u001b[0;34m.\u001b[0m\u001b[0m__dict__\u001b[0m\u001b[0;34m.\u001b[0m\u001b[0mget\u001b[0m\u001b[0;34m(\u001b[0m\u001b[0;34m'__repr__'\u001b[0m\u001b[0;34m)\u001b[0m\u001b[0;34m)\u001b[0m\u001b[0;34m:\u001b[0m\u001b[0;34m\u001b[0m\u001b[0m\n\u001b[0;32m--> 400\u001b[0;31m                             \u001b[0;32mreturn\u001b[0m \u001b[0m_repr_pprint\u001b[0m\u001b[0;34m(\u001b[0m\u001b[0mobj\u001b[0m\u001b[0;34m,\u001b[0m \u001b[0mself\u001b[0m\u001b[0;34m,\u001b[0m \u001b[0mcycle\u001b[0m\u001b[0;34m)\u001b[0m\u001b[0;34m\u001b[0m\u001b[0m\n\u001b[0m\u001b[1;32m    401\u001b[0m \u001b[0;34m\u001b[0m\u001b[0m\n\u001b[1;32m    402\u001b[0m             \u001b[0;32mreturn\u001b[0m \u001b[0m_default_pprint\u001b[0m\u001b[0;34m(\u001b[0m\u001b[0mobj\u001b[0m\u001b[0;34m,\u001b[0m \u001b[0mself\u001b[0m\u001b[0;34m,\u001b[0m \u001b[0mcycle\u001b[0m\u001b[0;34m)\u001b[0m\u001b[0;34m\u001b[0m\u001b[0m\n",
      "\u001b[0;32m~/anaconda3/envs/openlive/lib/python3.7/site-packages/IPython/lib/pretty.py\u001b[0m in \u001b[0;36m_repr_pprint\u001b[0;34m(obj, p, cycle)\u001b[0m\n\u001b[1;32m    693\u001b[0m     \u001b[0;34m\"\"\"A pprint that just redirects to the normal repr function.\"\"\"\u001b[0m\u001b[0;34m\u001b[0m\u001b[0m\n\u001b[1;32m    694\u001b[0m     \u001b[0;31m# Find newlines and replace them with p.break_()\u001b[0m\u001b[0;34m\u001b[0m\u001b[0;34m\u001b[0m\u001b[0m\n\u001b[0;32m--> 695\u001b[0;31m     \u001b[0moutput\u001b[0m \u001b[0;34m=\u001b[0m \u001b[0mrepr\u001b[0m\u001b[0;34m(\u001b[0m\u001b[0mobj\u001b[0m\u001b[0;34m)\u001b[0m\u001b[0;34m\u001b[0m\u001b[0m\n\u001b[0m\u001b[1;32m    696\u001b[0m     \u001b[0;32mfor\u001b[0m \u001b[0midx\u001b[0m\u001b[0;34m,\u001b[0m\u001b[0moutput_line\u001b[0m \u001b[0;32min\u001b[0m \u001b[0menumerate\u001b[0m\u001b[0;34m(\u001b[0m\u001b[0moutput\u001b[0m\u001b[0;34m.\u001b[0m\u001b[0msplitlines\u001b[0m\u001b[0;34m(\u001b[0m\u001b[0;34m)\u001b[0m\u001b[0;34m)\u001b[0m\u001b[0;34m:\u001b[0m\u001b[0;34m\u001b[0m\u001b[0m\n\u001b[1;32m    697\u001b[0m         \u001b[0;32mif\u001b[0m \u001b[0midx\u001b[0m\u001b[0;34m:\u001b[0m\u001b[0;34m\u001b[0m\u001b[0m\n",
      "\u001b[0;32m~/anaconda3/envs/openlive/lib/python3.7/site-packages/pygsheets/datarange.py\u001b[0m in \u001b[0;36m__repr__\u001b[0;34m(self)\u001b[0m\n\u001b[1;32m    239\u001b[0m \u001b[0;34m\u001b[0m\u001b[0m\n\u001b[1;32m    240\u001b[0m         \"\"\"\n\u001b[0;32m--> 241\u001b[0;31m         \u001b[0;32mif\u001b[0m \u001b[0mself\u001b[0m\u001b[0;34m.\u001b[0m\u001b[0m_linked\u001b[0m \u001b[0;32mand\u001b[0m \u001b[0mvalues\u001b[0m\u001b[0;34m:\u001b[0m\u001b[0;34m\u001b[0m\u001b[0m\n\u001b[0m\u001b[1;32m    242\u001b[0m             \u001b[0mself\u001b[0m\u001b[0;34m.\u001b[0m\u001b[0m_worksheet\u001b[0m\u001b[0;34m.\u001b[0m\u001b[0mupdate_values\u001b[0m\u001b[0;34m(\u001b[0m\u001b[0mcrange\u001b[0m\u001b[0;34m=\u001b[0m\u001b[0mself\u001b[0m\u001b[0;34m.\u001b[0m\u001b[0mrange\u001b[0m\u001b[0;34m,\u001b[0m \u001b[0mvalues\u001b[0m\u001b[0;34m=\u001b[0m\u001b[0mvalues\u001b[0m\u001b[0;34m)\u001b[0m\u001b[0;34m\u001b[0m\u001b[0m\n\u001b[1;32m    243\u001b[0m             \u001b[0mself\u001b[0m\u001b[0;34m.\u001b[0m\u001b[0mfetch\u001b[0m\u001b[0;34m(\u001b[0m\u001b[0;34m)\u001b[0m\u001b[0;34m\u001b[0m\u001b[0m\n",
      "\u001b[0;31mAttributeError\u001b[0m: 'DataRange' object has no attribute '_protected'"
     ]
    }
   ],
   "source": [
    "wks.create_named_range(\"a\", (1, 10), (5, 15))"
   ]
  },
  {
   "cell_type": "code",
   "execution_count": 65,
   "metadata": {},
   "outputs": [],
   "source": [
    "gridrange = {\n",
    "  \"sheetId\": 0,\n",
    "  \"startRowIndex\": 0,\n",
    "  \"endRowIndex\": 2,\n",
    "  \"startColumnIndex\": 0,\n",
    "  \"endColumnIndex\": 2,\n",
    "}\n",
    "pr = wks.create_protected_range(gridrange)\n"
   ]
  },
  {
   "cell_type": "code",
   "execution_count": null,
   "metadata": {},
   "outputs": [],
   "source": [
    "wks.create_named_range((1, 10), (5, 15))"
   ]
  },
  {
   "cell_type": "code",
   "execution_count": 71,
   "metadata": {},
   "outputs": [
    {
     "ename": "AttributeError",
     "evalue": "'DataRange' object has no attribute '_protected'",
     "output_type": "error",
     "traceback": [
      "\u001b[0;31m---------------------------------------------------------------------------\u001b[0m",
      "\u001b[0;31mAttributeError\u001b[0m                            Traceback (most recent call last)",
      "\u001b[0;32m~/anaconda3/envs/openlive/lib/python3.7/site-packages/IPython/core/formatters.py\u001b[0m in \u001b[0;36m__call__\u001b[0;34m(self, obj)\u001b[0m\n\u001b[1;32m    700\u001b[0m                 \u001b[0mtype_pprinters\u001b[0m\u001b[0;34m=\u001b[0m\u001b[0mself\u001b[0m\u001b[0;34m.\u001b[0m\u001b[0mtype_printers\u001b[0m\u001b[0;34m,\u001b[0m\u001b[0;34m\u001b[0m\u001b[0m\n\u001b[1;32m    701\u001b[0m                 deferred_pprinters=self.deferred_printers)\n\u001b[0;32m--> 702\u001b[0;31m             \u001b[0mprinter\u001b[0m\u001b[0;34m.\u001b[0m\u001b[0mpretty\u001b[0m\u001b[0;34m(\u001b[0m\u001b[0mobj\u001b[0m\u001b[0;34m)\u001b[0m\u001b[0;34m\u001b[0m\u001b[0m\n\u001b[0m\u001b[1;32m    703\u001b[0m             \u001b[0mprinter\u001b[0m\u001b[0;34m.\u001b[0m\u001b[0mflush\u001b[0m\u001b[0;34m(\u001b[0m\u001b[0;34m)\u001b[0m\u001b[0;34m\u001b[0m\u001b[0m\n\u001b[1;32m    704\u001b[0m             \u001b[0;32mreturn\u001b[0m \u001b[0mstream\u001b[0m\u001b[0;34m.\u001b[0m\u001b[0mgetvalue\u001b[0m\u001b[0;34m(\u001b[0m\u001b[0;34m)\u001b[0m\u001b[0;34m\u001b[0m\u001b[0m\n",
      "\u001b[0;32m~/anaconda3/envs/openlive/lib/python3.7/site-packages/IPython/lib/pretty.py\u001b[0m in \u001b[0;36mpretty\u001b[0;34m(self, obj)\u001b[0m\n\u001b[1;32m    398\u001b[0m                         \u001b[0;32mif\u001b[0m \u001b[0mcls\u001b[0m \u001b[0;32mis\u001b[0m \u001b[0;32mnot\u001b[0m \u001b[0mobject\u001b[0m\u001b[0;31m \u001b[0m\u001b[0;31m\\\u001b[0m\u001b[0;34m\u001b[0m\u001b[0m\n\u001b[1;32m    399\u001b[0m                                 \u001b[0;32mand\u001b[0m \u001b[0mcallable\u001b[0m\u001b[0;34m(\u001b[0m\u001b[0mcls\u001b[0m\u001b[0;34m.\u001b[0m\u001b[0m__dict__\u001b[0m\u001b[0;34m.\u001b[0m\u001b[0mget\u001b[0m\u001b[0;34m(\u001b[0m\u001b[0;34m'__repr__'\u001b[0m\u001b[0;34m)\u001b[0m\u001b[0;34m)\u001b[0m\u001b[0;34m:\u001b[0m\u001b[0;34m\u001b[0m\u001b[0m\n\u001b[0;32m--> 400\u001b[0;31m                             \u001b[0;32mreturn\u001b[0m \u001b[0m_repr_pprint\u001b[0m\u001b[0;34m(\u001b[0m\u001b[0mobj\u001b[0m\u001b[0;34m,\u001b[0m \u001b[0mself\u001b[0m\u001b[0;34m,\u001b[0m \u001b[0mcycle\u001b[0m\u001b[0;34m)\u001b[0m\u001b[0;34m\u001b[0m\u001b[0m\n\u001b[0m\u001b[1;32m    401\u001b[0m \u001b[0;34m\u001b[0m\u001b[0m\n\u001b[1;32m    402\u001b[0m             \u001b[0;32mreturn\u001b[0m \u001b[0m_default_pprint\u001b[0m\u001b[0;34m(\u001b[0m\u001b[0mobj\u001b[0m\u001b[0;34m,\u001b[0m \u001b[0mself\u001b[0m\u001b[0;34m,\u001b[0m \u001b[0mcycle\u001b[0m\u001b[0;34m)\u001b[0m\u001b[0;34m\u001b[0m\u001b[0m\n",
      "\u001b[0;32m~/anaconda3/envs/openlive/lib/python3.7/site-packages/IPython/lib/pretty.py\u001b[0m in \u001b[0;36m_repr_pprint\u001b[0;34m(obj, p, cycle)\u001b[0m\n\u001b[1;32m    693\u001b[0m     \u001b[0;34m\"\"\"A pprint that just redirects to the normal repr function.\"\"\"\u001b[0m\u001b[0;34m\u001b[0m\u001b[0m\n\u001b[1;32m    694\u001b[0m     \u001b[0;31m# Find newlines and replace them with p.break_()\u001b[0m\u001b[0;34m\u001b[0m\u001b[0;34m\u001b[0m\u001b[0m\n\u001b[0;32m--> 695\u001b[0;31m     \u001b[0moutput\u001b[0m \u001b[0;34m=\u001b[0m \u001b[0mrepr\u001b[0m\u001b[0;34m(\u001b[0m\u001b[0mobj\u001b[0m\u001b[0;34m)\u001b[0m\u001b[0;34m\u001b[0m\u001b[0m\n\u001b[0m\u001b[1;32m    696\u001b[0m     \u001b[0;32mfor\u001b[0m \u001b[0midx\u001b[0m\u001b[0;34m,\u001b[0m\u001b[0moutput_line\u001b[0m \u001b[0;32min\u001b[0m \u001b[0menumerate\u001b[0m\u001b[0;34m(\u001b[0m\u001b[0moutput\u001b[0m\u001b[0;34m.\u001b[0m\u001b[0msplitlines\u001b[0m\u001b[0;34m(\u001b[0m\u001b[0;34m)\u001b[0m\u001b[0;34m)\u001b[0m\u001b[0;34m:\u001b[0m\u001b[0;34m\u001b[0m\u001b[0m\n\u001b[1;32m    697\u001b[0m         \u001b[0;32mif\u001b[0m \u001b[0midx\u001b[0m\u001b[0;34m:\u001b[0m\u001b[0;34m\u001b[0m\u001b[0m\n",
      "\u001b[0;32m~/anaconda3/envs/openlive/lib/python3.7/site-packages/pygsheets/datarange.py\u001b[0m in \u001b[0;36m__repr__\u001b[0;34m(self)\u001b[0m\n\u001b[1;32m    239\u001b[0m \u001b[0;34m\u001b[0m\u001b[0m\n\u001b[1;32m    240\u001b[0m         \"\"\"\n\u001b[0;32m--> 241\u001b[0;31m         \u001b[0;32mif\u001b[0m \u001b[0mself\u001b[0m\u001b[0;34m.\u001b[0m\u001b[0m_linked\u001b[0m \u001b[0;32mand\u001b[0m \u001b[0mvalues\u001b[0m\u001b[0;34m:\u001b[0m\u001b[0;34m\u001b[0m\u001b[0m\n\u001b[0m\u001b[1;32m    242\u001b[0m             \u001b[0mself\u001b[0m\u001b[0;34m.\u001b[0m\u001b[0m_worksheet\u001b[0m\u001b[0;34m.\u001b[0m\u001b[0mupdate_values\u001b[0m\u001b[0;34m(\u001b[0m\u001b[0mcrange\u001b[0m\u001b[0;34m=\u001b[0m\u001b[0mself\u001b[0m\u001b[0;34m.\u001b[0m\u001b[0mrange\u001b[0m\u001b[0;34m,\u001b[0m \u001b[0mvalues\u001b[0m\u001b[0;34m=\u001b[0m\u001b[0mvalues\u001b[0m\u001b[0;34m)\u001b[0m\u001b[0;34m\u001b[0m\u001b[0m\n\u001b[1;32m    243\u001b[0m             \u001b[0mself\u001b[0m\u001b[0;34m.\u001b[0m\u001b[0mfetch\u001b[0m\u001b[0;34m(\u001b[0m\u001b[0;34m)\u001b[0m\u001b[0;34m\u001b[0m\u001b[0m\n",
      "\u001b[0;31mAttributeError\u001b[0m: 'DataRange' object has no attribute '_protected'"
     ]
    }
   ],
   "source": [
    "wks.get_values((1, 10), (5, 15), returnas='range')"
   ]
  },
  {
   "cell_type": "code",
   "execution_count": null,
   "metadata": {},
   "outputs": [],
   "source": [
    "pr.update()"
   ]
  }
 ],
 "metadata": {
  "kernelspec": {
   "display_name": "Python 3",
   "language": "python",
   "name": "python3"
  },
  "language_info": {
   "codemirror_mode": {
    "name": "ipython",
    "version": 3
   },
   "file_extension": ".py",
   "mimetype": "text/x-python",
   "name": "python",
   "nbconvert_exporter": "python",
   "pygments_lexer": "ipython3",
   "version": "3.6.4"
  }
 },
 "nbformat": 4,
 "nbformat_minor": 2
}
