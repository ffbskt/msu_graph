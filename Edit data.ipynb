{
 "cells": [
  {
   "cell_type": "markdown",
   "metadata": {},
   "source": [
    "# Notebook to edit data"
   ]
  },
  {
   "cell_type": "code",
   "execution_count": 1,
   "metadata": {},
   "outputs": [],
   "source": [
    "import pygsheets\n",
    "import pandas as pd\n",
    "import numpy as np\n",
    "import datetime\n",
    "import util\n",
    "c = pygsheets.authorize(outh_file='other.json')\n",
    "\n"
   ]
  },
  {
   "cell_type": "markdown",
   "metadata": {},
   "source": [
    "# Protected Range"
   ]
  },
  {
   "cell_type": "code",
   "execution_count": null,
   "metadata": {},
   "outputs": [],
   "source": [
    "gc = pygsheets.authorize(outh_file='/home/denis/Program/work/sheets.googleapis.com-python.json')\n",
    "print(gc.get_range('1B1vEqp6uK7x2B8pV0dSH3S9DetFesaDP8n83Ewy53Yk', 'A1:D3' ))\n",
    "gridrange = {\n",
    "  \"sheetId\": 0,\n",
    "  \"startRowIndex\": 0,\n",
    "  \"endRowIndex\": 2,\n",
    "  \"startColumnIndex\": 0,\n",
    "  \"endColumnIndex\": 2,\n",
    "}\n",
    "\n",
    "editors = {\n",
    "  \"users\": [\n",
    "    'ffbskt@gmail.com',\n",
    "  ],\n",
    "  \"groups\": [\n",
    "  ],\n",
    "  \"domainUsersCanEdit\": True,\n",
    "}\n",
    "request = {\"addProtectedRange\": {\n",
    "            \"protectedRange\": {\n",
    "                \"range\": gridrange,\n",
    "                \"editors\": editors\n",
    "            },\n",
    "\n",
    "        }}\n",
    "#print(gc.sh_batch_update('1B1vEqp6uK7x2B8pV0dSH3S9DetFesaDP8n83Ewy53Yk', request, None, False))"
   ]
  },
  {
   "cell_type": "code",
   "execution_count": 10,
   "metadata": {},
   "outputs": [],
   "source": [
    "gc = pygsheets.authorize(outh_file='/home/denis/Program/work/sheets.googleapis.com-python.json')\n",
    "wks = util.read_sheet('1s5vtpVMmWZQCuUOdBVoNCCAVK_7U6ax3uZn0ynzgB28')\n",
    "df = wks.get_as_df()"
   ]
  },
  {
   "cell_type": "code",
   "execution_count": 18,
   "metadata": {},
   "outputs": [],
   "source": [
    "def open_protected_today(key):\n",
    "    col = datetime.datetime.now().strftime(\"%m-%d\")\n",
    "    ind = df.columns.get_loc(col)\n",
    "    \n",
    "    #delete protected range\n",
    "    request = {\n",
    "              \"deleteProtectedRange\": {\n",
    "                \"protectedRangeId\": 1,\n",
    "              }\n",
    "            }\n",
    "    try:\n",
    "        gc.sh_batch_update(key, request, None, False)\n",
    "    except:\n",
    "        pass\n",
    "    #set new range\n",
    "    gridrange = {\n",
    "      \"sheetId\": 0,\n",
    "      \"startRowIndex\": 0,\n",
    "      \"endRowIndex\": 50,\n",
    "      \"startColumnIndex\": 0,\n",
    "      \"endColumnIndex\": ind,\n",
    "    }\n",
    "    editors = {\n",
    "      \"users\": [\n",
    "        'ffbskt@gmail.com',\n",
    "      ],\n",
    "      \"groups\": [\n",
    "      ],\n",
    "      \"domainUsersCanEdit\": True,\n",
    "    }\n",
    "    request = {\"addProtectedRange\": {\n",
    "                \"protectedRange\": {\n",
    "                \"protectedRangeId\": 1,\n",
    "                \"range\": gridrange,\n",
    "                \"editors\": editors\n",
    "            },\n",
    "\n",
    "        }}\n",
    "    gc.sh_batch_update(key, request, None, False)\n",
    "    ##open col of protection (can edit by link)\n",
    "    \n",
    "open_protected_today('1s5vtpVMmWZQCuUOdBVoNCCAVK_7U6ax3uZn0ynzgB28')"
   ]
  },
  {
   "cell_type": "code",
   "execution_count": null,
   "metadata": {},
   "outputs": [],
   "source": []
  },
  {
   "cell_type": "code",
   "execution_count": 2,
   "metadata": {},
   "outputs": [
    {
     "ename": "TypeError",
     "evalue": "first_empty() missing 2 required positional arguments: 'df' and 'col'",
     "output_type": "error",
     "traceback": [
      "\u001b[0;31m---------------------------------------------------------------------------\u001b[0m",
      "\u001b[0;31mTypeError\u001b[0m                                 Traceback (most recent call last)",
      "\u001b[0;32m<ipython-input-2-fdfce4f1d8dc>\u001b[0m in \u001b[0;36m<module>\u001b[0;34m()\u001b[0m\n\u001b[1;32m      4\u001b[0m         \u001b[0;32mif\u001b[0m \u001b[0;32mnot\u001b[0m \u001b[0mval\u001b[0m\u001b[0;34m:\u001b[0m\u001b[0;34m\u001b[0m\u001b[0m\n\u001b[1;32m      5\u001b[0m             \u001b[0;32mreturn\u001b[0m \u001b[0mind\u001b[0m\u001b[0;34m\u001b[0m\u001b[0m\n\u001b[0;32m----> 6\u001b[0;31m \u001b[0mfirst_empty\u001b[0m\u001b[0;34m(\u001b[0m\u001b[0;34m)\u001b[0m\u001b[0;34m\u001b[0m\u001b[0m\n\u001b[0m",
      "\u001b[0;31mTypeError\u001b[0m: first_empty() missing 2 required positional arguments: 'df' and 'col'"
     ]
    }
   ],
   "source": [
    "def first_empty(df, col):\n",
    "    r = df.loc[[col]] != ''\n",
    "    for ind, val in enumerate(r.values[0]):\n",
    "        if not val:\n",
    "            return ind\n",
    "first_empty()"
   ]
  },
  {
   "cell_type": "markdown",
   "metadata": {
    "collapsed": true
   },
   "source": [
    "# Copy sheet and add to graph"
   ]
  },
  {
   "cell_type": "code",
   "execution_count": null,
   "metadata": {},
   "outputs": [],
   "source": [
    "wks = util.read_sheet('1zx2VAIuiqFP9lZxwMUxeEyih7qpa2p5Su4mOw_ilC4E')#.get_as_df()\n",
    "c.create(title='Quise', parent_id='1ncBfOFctKPVRKBYwrc58U5_UaD-d0D30')\n",
    "wks_copy = util.read_sheet(c.spreadsheetId)\n",
    "wks_copy.set_dataframe(wks.get_as_df(), start='A1')"
   ]
  },
  {
   "cell_type": "markdown",
   "metadata": {},
   "source": [
    "# Edit data in sheet"
   ]
  },
  {
   "cell_type": "code",
   "execution_count": null,
   "metadata": {},
   "outputs": [],
   "source": [
    "df = wks_copy.get_as_df()\n",
    "df = util.join_suname_to_init(df, crange=[2,5], rrange=None, remove=True)"
   ]
  },
  {
   "cell_type": "code",
   "execution_count": null,
   "metadata": {},
   "outputs": [],
   "source": [
    "df = df.rename(index=str, columns={\"Фамилия\": \"ФИО\", \n",
    "                              \"Адрес электронной почты\": \"Почта\",\n",
    "                             \"Учебная группа\": \"Группа\",\n",
    "                             \"Секция по физкультуре\": \"Секция\",\n",
    "                             \"Медецинская группа, как на фотографии\": \"справка\"\n",
    "                             })\n",
    "df"
   ]
  },
  {
   "cell_type": "code",
   "execution_count": null,
   "metadata": {},
   "outputs": [],
   "source": [
    "# Add node_name of main list (which course and faculty)\n",
    "NODE_DICT = {'Физический1': \"закрытый_список_2017\"}#'закр список'}  #, ''}\n",
    "def find_node_name(key, node_dict):\n",
    "    if key in node_dict:\n",
    "        return node_dict[key]\n",
    "    else:\n",
    "        return ''\n",
    "df['node_name'] = [find_node_name(str(a) + str(b), NODE_DICT) \n",
    "                   for a, b in zip(df['Факультет'], df['Курс'])]\n"
   ]
  },
  {
   "cell_type": "code",
   "execution_count": null,
   "metadata": {},
   "outputs": [],
   "source": [
    "df"
   ]
  },
  {
   "cell_type": "code",
   "execution_count": null,
   "metadata": {},
   "outputs": [],
   "source": [
    "wks_copy.set_dataframe(df, start='A1')"
   ]
  },
  {
   "cell_type": "code",
   "execution_count": null,
   "metadata": {},
   "outputs": [],
   "source": [
    "c.spreadsheetId # for sinc add \n",
    "#https://docs.google.com/spreadsheets/d/https://docs.google.com/spreadsheets/d/ + id"
   ]
  },
  {
   "cell_type": "code",
   "execution_count": null,
   "metadata": {},
   "outputs": [],
   "source": []
  },
  {
   "cell_type": "markdown",
   "metadata": {},
   "source": [
    "# Multiple sinc"
   ]
  },
  {
   "cell_type": "markdown",
   "metadata": {},
   "source": [
    "We have form with multiple faculty and groups. We edit keys and values to main standart at the begining and add column \"node dict\" to contain name of link at graph sheet. Now we take form as df, sort by \"node dict\", open link and sync."
   ]
  },
  {
   "cell_type": "code",
   "execution_count": null,
   "metadata": {},
   "outputs": [],
   "source": [
    "def open_node_by_name(node_name, graph_df):\n",
    "    row = util.get_row_by_keys(graph_df, key_column=[\"node_name\"], key_value=[node_name])\n",
    "    link = row[\"node\"].values[0]\n",
    "    return util.read_sheet(util.get_sheet_id_from_link(link))"
   ]
  },
  {
   "cell_type": "code",
   "execution_count": null,
   "metadata": {},
   "outputs": [],
   "source": [
    "def get_ind(df, colname, ifval):\n",
    "    return [str(i[1]) for i in zip(df[colname] == ifval, df.index) if i[0]]"
   ]
  },
  {
   "cell_type": "code",
   "execution_count": null,
   "metadata": {},
   "outputs": [],
   "source": [
    "import util\n",
    "graph_df = util.read_sheet('1MeAYhENafzQMoTKDG-VOLI308ih1wl7SjMLbOkwJU4M').get_as_df()\n",
    "args = {\"to_key_colname\":[ \"ФИО\", \"Группа\"], \"to_values_colname\": [\"Секция\"]}\n",
    "unique = list(df[\"node_name\"].unique())\n",
    "if '' in unique:\n",
    "    unique.remove('')\n",
    "while unique:\n",
    "    main_name = unique.pop()\n",
    "    main_wks = open_node_by_name(main_name, graph_df)\n",
    "    from_wks = df[df[\"node_name\"] == main_name]\n",
    "    util.sync_by_colname(from_wks=from_wks, to_wks=main_wks, **args)\n",
    "    df_sync_ind = get_ind(df, \"node_name\", main_name)\n"
   ]
  },
  {
   "cell_type": "code",
   "execution_count": null,
   "metadata": {},
   "outputs": [],
   "source": [
    "df[\"mark\"] = 0"
   ]
  },
  {
   "cell_type": "code",
   "execution_count": null,
   "metadata": {},
   "outputs": [],
   "source": [
    "import json\n",
    "from util import read_sheet, get_sheet_id_from_link, sync_by_colname\n",
    "\n",
    "\"\"\"\n",
    "Go by graph and sync all linked sheets by args.\n",
    "\"\"\"\n",
    "\n",
    "#graph = read_sheet('1MeAYhENafzQMoTKDG-VOLI308ih1wl7SjMLbOkwJU4M').get_as_df()\n",
    "graph = read_sheet('1q8z_9QDwSia1IMo7qvDdH2cui0-D5My0xkClopMWcqw').get_as_df() # TEST\n",
    "\n",
    "\n",
    "for i, line in graph.iterrows():\n",
    "    if line['Pass']:\n",
    "        continue\n",
    "\n",
    "    from_wks = read_sheet(get_sheet_id_from_link(line['node']))\n",
    "    links = line['link'].split(',')\n",
    "    args = json.loads(line['args'])\n",
    "    for link in links:\n",
    "        to_wks = read_sheet(get_sheet_id_from_link(link))\n",
    "        print(args['to_values_colname'], line['node'], link)\n",
    "        sync_by_colname(from_wks=from_wks, to_wks=to_wks, **args)"
   ]
  },
  {
   "cell_type": "markdown",
   "metadata": {},
   "source": [
    "# 2018 Optimize lessons\n"
   ]
  },
  {
   "cell_type": "code",
   "execution_count": 11,
   "metadata": {},
   "outputs": [],
   "source": [
    "import pygsheets\n",
    "import pandas as pd\n",
    "import util\n",
    "import random\n",
    "import hashlib"
   ]
  },
  {
   "cell_type": "code",
   "execution_count": 3,
   "metadata": {},
   "outputs": [
    {
     "ename": "NameError",
     "evalue": "name 'PandasForm' is not defined",
     "output_type": "error",
     "traceback": [
      "\u001b[0;31m---------------------------------------------------------------------------\u001b[0m",
      "\u001b[0;31mNameError\u001b[0m                                 Traceback (most recent call last)",
      "\u001b[0;32m<ipython-input-3-685e45c95f1c>\u001b[0m in \u001b[0;36m<module>\u001b[0;34m()\u001b[0m\n\u001b[1;32m      2\u001b[0m \u001b[0;34m\u001b[0m\u001b[0m\n\u001b[1;32m      3\u001b[0m \u001b[0mimportlib\u001b[0m\u001b[0;34m.\u001b[0m\u001b[0mreload\u001b[0m\u001b[0;34m(\u001b[0m\u001b[0mutil\u001b[0m\u001b[0;34m)\u001b[0m\u001b[0;34m\u001b[0m\u001b[0m\n\u001b[0;32m----> 4\u001b[0;31m \u001b[0mimportlib\u001b[0m\u001b[0;34m.\u001b[0m\u001b[0mreload\u001b[0m\u001b[0;34m(\u001b[0m\u001b[0mPandasForm\u001b[0m\u001b[0;34m)\u001b[0m\u001b[0;34m\u001b[0m\u001b[0m\n\u001b[0m\u001b[1;32m      5\u001b[0m \u001b[0mimportlib\u001b[0m\u001b[0;34m.\u001b[0m\u001b[0mreload\u001b[0m\u001b[0;34m(\u001b[0m\u001b[0mSyncGraph\u001b[0m\u001b[0;34m)\u001b[0m\u001b[0;34m\u001b[0m\u001b[0m\n",
      "\u001b[0;31mNameError\u001b[0m: name 'PandasForm' is not defined"
     ]
    }
   ],
   "source": [
    "import importlib\n",
    "\n",
    "importlib.reload(util)\n",
    "importlib.reload(PandasForm)\n",
    "importlib.reload(SyncGraph)"
   ]
  },
  {
   "cell_type": "code",
   "execution_count": 44,
   "metadata": {},
   "outputs": [],
   "source": [
    "c = pygsheets.authorize(outh_file='other.json')\n",
    "\n",
    "\n",
    "#sh = c.open_by_key('1cWN-sMoaV_5NjWTcjryRx-6uxi29K9KaWt5vHa9vQog')#\"1-xmNwRbxBwcZSHem67cVhf-ilG_bh_g_MRvR96Q74nE\")#\n",
    "#wks = sh.sheet1\n"
   ]
  },
  {
   "cell_type": "code",
   "execution_count": 5,
   "metadata": {},
   "outputs": [],
   "source": [
    "def safe_transfer_to_pd_by_col(wks, col_list):\n",
    "    \"\"\"\n",
    "        take col one by one and create pd dataframe (more stable then get_as_df)\n",
    "        col_list = [1, 2, 6...]\n",
    "    \"\"\" \n",
    "    df = pd.DataFrame()\n",
    "    for col in col_list:\n",
    "        \n",
    "        full_col = wks.get_col(col, include_empty=False)\n",
    "        #print(col, full_col, full_col[0], len(full_col), df.shape[0])\n",
    "        diff_coll = df.shape[0] - len(full_col) + 1\n",
    "        if diff_coll > 0: \n",
    "            for i in range(diff_coll):\n",
    "                full_col.append('')\n",
    "            \n",
    "        df[full_col[0]] = full_col[1:]\n",
    "    return df"
   ]
  },
  {
   "cell_type": "code",
   "execution_count": 6,
   "metadata": {},
   "outputs": [],
   "source": [
    "def score_to_int(sc_val):\n",
    "    return int(sc_val.split('/')[0])"
   ]
  },
  {
   "cell_type": "code",
   "execution_count": 27,
   "metadata": {},
   "outputs": [],
   "source": [
    "wks = c.open_by_key(key='1cWN-sMoaV_5NjWTcjryRx-6uxi29K9KaWt5vHa9vQog').sheet1\n",
    "df = safe_transfer_to_pd_by_col(wks, [1,2,3,4,5,6,7,8]) # 7 problem"
   ]
  },
  {
   "cell_type": "code",
   "execution_count": null,
   "metadata": {},
   "outputs": [],
   "source": [
    "def filter_df_with_propertis(df, propertys_function):\n",
    "    "
   ]
  },
  {
   "cell_type": "code",
   "execution_count": 28,
   "metadata": {},
   "outputs": [],
   "source": [
    "# Rename columns from test\n",
    "col_to_rename = {\"Номер учебной группы (101, 201, 201э)\":'group', \n",
    "                 \"Email Address\":'key', # emeil hash\n",
    "                 \"Score\":'test_rool', # transform to int\n",
    "                 'Фамилия и инициалы (Пример: Петров А. Б.)':'suname',\n",
    "                 \"Медицинская группа (на загруженной справке)\":'med'\n",
    "                }\n",
    "df.rename(columns=col_to_rename, inplace=True)"
   ]
  },
  {
   "cell_type": "code",
   "execution_count": 12,
   "metadata": {},
   "outputs": [],
   "source": [
    "#email -> hash\n",
    "def mail_hesh(mail):\n",
    "    return hashlib.md5(mail.encode('UTF-8')).hexdigest()\n"
   ]
  },
  {
   "cell_type": "code",
   "execution_count": 39,
   "metadata": {},
   "outputs": [],
   "source": [
    "\n",
    "df['key'] = df['key'].apply(mail_hesh)\n",
    "df['key'] = df['key'].apply(str) #int to long for google docs\n",
    "df['cource'] = df['group'].apply(get_cource)\n",
    "#df['key'] = df['key'].apply(lambda x: 'a'+str(x))"
   ]
  },
  {
   "cell_type": "code",
   "execution_count": 40,
   "metadata": {},
   "outputs": [],
   "source": [
    "def get_cource(group_number):\n",
    "    if group_number:\n",
    "        return str(group_number[0])\n",
    "    return ''\n",
    "    #return group_number or group_number[0]\n"
   ]
  },
  {
   "cell_type": "code",
   "execution_count": 30,
   "metadata": {},
   "outputs": [],
   "source": [
    "#test score to int \n",
    "df['test_rool'] = df['test_rool'].apply(score_to_int)"
   ]
  },
  {
   "cell_type": "code",
   "execution_count": 41,
   "metadata": {},
   "outputs": [
    {
     "data": {
      "text/html": [
       "<div>\n",
       "<style scoped>\n",
       "    .dataframe tbody tr th:only-of-type {\n",
       "        vertical-align: middle;\n",
       "    }\n",
       "\n",
       "    .dataframe tbody tr th {\n",
       "        vertical-align: top;\n",
       "    }\n",
       "\n",
       "    .dataframe thead th {\n",
       "        text-align: right;\n",
       "    }\n",
       "</style>\n",
       "<table border=\"1\" class=\"dataframe\">\n",
       "  <thead>\n",
       "    <tr style=\"text-align: right;\">\n",
       "      <th></th>\n",
       "      <th>Timestamp</th>\n",
       "      <th>key</th>\n",
       "      <th>test_rool</th>\n",
       "      <th>suname</th>\n",
       "      <th>group</th>\n",
       "      <th>Факультет</th>\n",
       "      <th>Фото справки медосмотра</th>\n",
       "      <th>Медицинская группа (на загруженной справке)</th>\n",
       "      <th>cource</th>\n",
       "    </tr>\n",
       "  </thead>\n",
       "  <tbody>\n",
       "    <tr>\n",
       "      <th>0</th>\n",
       "      <td>9/4/2018 23:20:14</td>\n",
       "      <td>2a734d098452ae0f283b0589db437d06</td>\n",
       "      <td>23</td>\n",
       "      <td>Зимнякова П.Е.</td>\n",
       "      <td>218</td>\n",
       "      <td>Физифак</td>\n",
       "      <td></td>\n",
       "      <td>основная</td>\n",
       "      <td>2</td>\n",
       "    </tr>\n",
       "    <tr>\n",
       "      <th>1</th>\n",
       "      <td>9/8/2018 13:36:33</td>\n",
       "      <td>ff63cf8168b362978f3d0f242109bac5</td>\n",
       "      <td>21</td>\n",
       "      <td>Король А.К.</td>\n",
       "      <td>205</td>\n",
       "      <td>Физифак</td>\n",
       "      <td></td>\n",
       "      <td>основная</td>\n",
       "      <td>2</td>\n",
       "    </tr>\n",
       "    <tr>\n",
       "      <th>2</th>\n",
       "      <td>8/31/2018 20:54:31</td>\n",
       "      <td>1c0c95e1a97a6635367991b902b44def</td>\n",
       "      <td>1</td>\n",
       "      <td></td>\n",
       "      <td></td>\n",
       "      <td></td>\n",
       "      <td></td>\n",
       "      <td></td>\n",
       "      <td></td>\n",
       "    </tr>\n",
       "    <tr>\n",
       "      <th>3</th>\n",
       "      <td>8/31/2018 21:09:25</td>\n",
       "      <td>eba5ac70cb76ada5d3809e6095d048fe</td>\n",
       "      <td>1</td>\n",
       "      <td></td>\n",
       "      <td></td>\n",
       "      <td></td>\n",
       "      <td></td>\n",
       "      <td></td>\n",
       "      <td></td>\n",
       "    </tr>\n",
       "    <tr>\n",
       "      <th>4</th>\n",
       "      <td>8/31/2018 21:57:02</td>\n",
       "      <td>e52fd7700fb6fe94e8a060d7cb279ebe</td>\n",
       "      <td>3</td>\n",
       "      <td></td>\n",
       "      <td></td>\n",
       "      <td></td>\n",
       "      <td></td>\n",
       "      <td></td>\n",
       "      <td></td>\n",
       "    </tr>\n",
       "    <tr>\n",
       "      <th>5</th>\n",
       "      <td>9/8/2018 18:33:19</td>\n",
       "      <td>89e35c3e4995d4020489ca62fd0c2c03</td>\n",
       "      <td>24</td>\n",
       "      <td>Давыдов М.М.</td>\n",
       "      <td>210</td>\n",
       "      <td>Физифак</td>\n",
       "      <td></td>\n",
       "      <td>основная</td>\n",
       "      <td>2</td>\n",
       "    </tr>\n",
       "    <tr>\n",
       "      <th>6</th>\n",
       "      <td>9/1/2018 10:25:44</td>\n",
       "      <td>3165b49d0d3a92fb655a0252292fec70</td>\n",
       "      <td>3</td>\n",
       "      <td></td>\n",
       "      <td></td>\n",
       "      <td></td>\n",
       "      <td></td>\n",
       "      <td></td>\n",
       "      <td></td>\n",
       "    </tr>\n",
       "    <tr>\n",
       "      <th>7</th>\n",
       "      <td>9/5/2018 21:05:23</td>\n",
       "      <td>944f2eae5dca3b39848fb33adc8811b4</td>\n",
       "      <td>13</td>\n",
       "      <td>Андреев А.А.</td>\n",
       "      <td>212</td>\n",
       "      <td>Физифак</td>\n",
       "      <td></td>\n",
       "      <td>основная</td>\n",
       "      <td>2</td>\n",
       "    </tr>\n",
       "    <tr>\n",
       "      <th>8</th>\n",
       "      <td>9/8/2018 13:19:48</td>\n",
       "      <td>530df3ed0a0bc8a8a6c1c7ae376ed92a</td>\n",
       "      <td>19</td>\n",
       "      <td>Лабунов А.С.</td>\n",
       "      <td>209</td>\n",
       "      <td>Физифак</td>\n",
       "      <td></td>\n",
       "      <td>основная</td>\n",
       "      <td>2</td>\n",
       "    </tr>\n",
       "    <tr>\n",
       "      <th>9</th>\n",
       "      <td>9/1/2018 19:02:57</td>\n",
       "      <td>57a3dbe1bbd0a7ec399bbfb856da8699</td>\n",
       "      <td>2</td>\n",
       "      <td></td>\n",
       "      <td></td>\n",
       "      <td></td>\n",
       "      <td></td>\n",
       "      <td></td>\n",
       "      <td></td>\n",
       "    </tr>\n",
       "    <tr>\n",
       "      <th>10</th>\n",
       "      <td>9/1/2018 22:57:02</td>\n",
       "      <td>72b63815fabd121152d700a4e32f296b</td>\n",
       "      <td>2</td>\n",
       "      <td></td>\n",
       "      <td></td>\n",
       "      <td></td>\n",
       "      <td></td>\n",
       "      <td></td>\n",
       "      <td></td>\n",
       "    </tr>\n",
       "    <tr>\n",
       "      <th>11</th>\n",
       "      <td>9/8/2018 13:23:30</td>\n",
       "      <td>2a0131b10fd6503dec816519880b0ea3</td>\n",
       "      <td>24</td>\n",
       "      <td>Альперович К. Д.</td>\n",
       "      <td>209</td>\n",
       "      <td>Физифак</td>\n",
       "      <td></td>\n",
       "      <td>основная</td>\n",
       "      <td>2</td>\n",
       "    </tr>\n",
       "    <tr>\n",
       "      <th>12</th>\n",
       "      <td>9/4/2018 22:54:59</td>\n",
       "      <td>e5d7578cf2f6282c78e3aaed716927f0</td>\n",
       "      <td>23</td>\n",
       "      <td>Ерофеева А.В.</td>\n",
       "      <td>213</td>\n",
       "      <td>Физифак</td>\n",
       "      <td></td>\n",
       "      <td>основная</td>\n",
       "      <td>2</td>\n",
       "    </tr>\n",
       "    <tr>\n",
       "      <th>13</th>\n",
       "      <td>9/3/2018 11:39:52</td>\n",
       "      <td>02a0143763c531090396553e78fed7cb</td>\n",
       "      <td>0</td>\n",
       "      <td></td>\n",
       "      <td></td>\n",
       "      <td></td>\n",
       "      <td></td>\n",
       "      <td></td>\n",
       "      <td></td>\n",
       "    </tr>\n",
       "    <tr>\n",
       "      <th>14</th>\n",
       "      <td>9/8/2018 13:27:41</td>\n",
       "      <td>b336c1397a8e7f931ac408affe204ed3</td>\n",
       "      <td>18</td>\n",
       "      <td>Жариков В.И.</td>\n",
       "      <td>209</td>\n",
       "      <td>Физифак</td>\n",
       "      <td></td>\n",
       "      <td>основная</td>\n",
       "      <td>2</td>\n",
       "    </tr>\n",
       "    <tr>\n",
       "      <th>15</th>\n",
       "      <td>9/4/2018 12:12:35</td>\n",
       "      <td>ff63cf8168b362978f3d0f242109bac5</td>\n",
       "      <td>5</td>\n",
       "      <td>а а</td>\n",
       "      <td>1</td>\n",
       "      <td>Физифак</td>\n",
       "      <td></td>\n",
       "      <td>основная</td>\n",
       "      <td>1</td>\n",
       "    </tr>\n",
       "    <tr>\n",
       "      <th>16</th>\n",
       "      <td>9/4/2018 13:43:48</td>\n",
       "      <td>65bb262678e5afdead1797da8535c8f3</td>\n",
       "      <td>21</td>\n",
       "      <td>Кулёв М.С.</td>\n",
       "      <td>202</td>\n",
       "      <td>Физифак</td>\n",
       "      <td>https://drive.google.com/open?id=1CM9y-ONWc8hl...</td>\n",
       "      <td>основная</td>\n",
       "      <td>2</td>\n",
       "    </tr>\n",
       "    <tr>\n",
       "      <th>17</th>\n",
       "      <td>9/4/2018 18:57:35</td>\n",
       "      <td>c828a1d7b9ff58dff05e875f11dff3a8</td>\n",
       "      <td>6</td>\n",
       "      <td>Казаркин Д.М.</td>\n",
       "      <td>207</td>\n",
       "      <td>Физифак</td>\n",
       "      <td></td>\n",
       "      <td>основная</td>\n",
       "      <td>2</td>\n",
       "    </tr>\n",
       "    <tr>\n",
       "      <th>18</th>\n",
       "      <td>9/4/2018 23:01:51</td>\n",
       "      <td>5ab5b99c4af4c1550ee50707253b3558</td>\n",
       "      <td>16</td>\n",
       "      <td>Беляев М.Е.</td>\n",
       "      <td>203</td>\n",
       "      <td>Физифак</td>\n",
       "      <td></td>\n",
       "      <td>основная</td>\n",
       "      <td>2</td>\n",
       "    </tr>\n",
       "    <tr>\n",
       "      <th>19</th>\n",
       "      <td>9/8/2018 13:31:40</td>\n",
       "      <td>c952b1fb38eb18efdb1a3f6d3e65e8ad</td>\n",
       "      <td>18</td>\n",
       "      <td>Костенко Т. М.</td>\n",
       "      <td>206</td>\n",
       "      <td>Физифак</td>\n",
       "      <td></td>\n",
       "      <td>основная</td>\n",
       "      <td>2</td>\n",
       "    </tr>\n",
       "    <tr>\n",
       "      <th>20</th>\n",
       "      <td>9/5/2018 17:31:44</td>\n",
       "      <td>218af427345f69fd49efb17f3ad44448</td>\n",
       "      <td>20</td>\n",
       "      <td>Иноземцев М.А.</td>\n",
       "      <td>229м</td>\n",
       "      <td>Физифак</td>\n",
       "      <td></td>\n",
       "      <td>основная</td>\n",
       "      <td>2</td>\n",
       "    </tr>\n",
       "    <tr>\n",
       "      <th>21</th>\n",
       "      <td>9/5/2018 17:38:30</td>\n",
       "      <td>bd260698dd32d6e2979b97a7a42b3a3d</td>\n",
       "      <td>13</td>\n",
       "      <td>Власов В. А.</td>\n",
       "      <td>105</td>\n",
       "      <td>Физифак</td>\n",
       "      <td>https://drive.google.com/open?id=1awIIbAu-_t5Z...</td>\n",
       "      <td>основная</td>\n",
       "      <td>1</td>\n",
       "    </tr>\n",
       "    <tr>\n",
       "      <th>22</th>\n",
       "      <td>9/5/2018 18:20:27</td>\n",
       "      <td>a9eeacf2e363217dfcd096fb746a6338</td>\n",
       "      <td>21</td>\n",
       "      <td>Пинчук И. С.</td>\n",
       "      <td>206</td>\n",
       "      <td>Химфак</td>\n",
       "      <td></td>\n",
       "      <td>основная</td>\n",
       "      <td>2</td>\n",
       "    </tr>\n",
       "    <tr>\n",
       "      <th>23</th>\n",
       "      <td>9/6/2018 0:27:58</td>\n",
       "      <td>c4be70a06b4d6e50f7f0773cdf7995e4</td>\n",
       "      <td>11</td>\n",
       "      <td>Маркеленкова М.Р.</td>\n",
       "      <td>м201</td>\n",
       "      <td>Эконом</td>\n",
       "      <td></td>\n",
       "      <td>основная</td>\n",
       "      <td>м</td>\n",
       "    </tr>\n",
       "    <tr>\n",
       "      <th>24</th>\n",
       "      <td>9/6/2018 19:02:02</td>\n",
       "      <td>dd9aa0bdd26e38e4f7f66cc470878844</td>\n",
       "      <td>13</td>\n",
       "      <td>Хуцистова А.О.</td>\n",
       "      <td>214</td>\n",
       "      <td>Физифак</td>\n",
       "      <td></td>\n",
       "      <td>основная</td>\n",
       "      <td>2</td>\n",
       "    </tr>\n",
       "    <tr>\n",
       "      <th>25</th>\n",
       "      <td>9/7/2018 16:16:57</td>\n",
       "      <td>83f00c90cb6e1939678fa2e4faf8d67f</td>\n",
       "      <td>18</td>\n",
       "      <td>Якимов Н.П.</td>\n",
       "      <td>207</td>\n",
       "      <td>Химфак</td>\n",
       "      <td></td>\n",
       "      <td>основная</td>\n",
       "      <td>2</td>\n",
       "    </tr>\n",
       "    <tr>\n",
       "      <th>26</th>\n",
       "      <td>9/8/2018 13:29:52</td>\n",
       "      <td>b3c8938fd728873fc38c742f4db7750d</td>\n",
       "      <td>21</td>\n",
       "      <td>Преснов</td>\n",
       "      <td>205</td>\n",
       "      <td>Физифак</td>\n",
       "      <td></td>\n",
       "      <td>основная</td>\n",
       "      <td>2</td>\n",
       "    </tr>\n",
       "    <tr>\n",
       "      <th>27</th>\n",
       "      <td>9/7/2018 19:21:00</td>\n",
       "      <td>db140b959585d16934493c0513643f11</td>\n",
       "      <td>18</td>\n",
       "      <td>Миронова Е. М.</td>\n",
       "      <td>204</td>\n",
       "      <td>Химфак</td>\n",
       "      <td></td>\n",
       "      <td>подготовительная</td>\n",
       "      <td>2</td>\n",
       "    </tr>\n",
       "    <tr>\n",
       "      <th>28</th>\n",
       "      <td>9/8/2018 11:40:56</td>\n",
       "      <td>24d705e78bec54f397c2cbeee7fd5ff6</td>\n",
       "      <td>21</td>\n",
       "      <td>Максимова М.А.</td>\n",
       "      <td>204</td>\n",
       "      <td>Химфак</td>\n",
       "      <td></td>\n",
       "      <td>подготовительная</td>\n",
       "      <td>2</td>\n",
       "    </tr>\n",
       "    <tr>\n",
       "      <th>29</th>\n",
       "      <td>9/8/2018 10:51:23</td>\n",
       "      <td>bd1d161aafeafe79b65cdade853d3ccf</td>\n",
       "      <td>23</td>\n",
       "      <td>Разумовская А. В.</td>\n",
       "      <td>210</td>\n",
       "      <td>Химфак</td>\n",
       "      <td></td>\n",
       "      <td>основная</td>\n",
       "      <td>2</td>\n",
       "    </tr>\n",
       "    <tr>\n",
       "      <th>30</th>\n",
       "      <td>9/7/2018 22:29:54</td>\n",
       "      <td>3f7b7628d621ca9cca34a347d45b4db7</td>\n",
       "      <td>20</td>\n",
       "      <td>Фурман А.Н.</td>\n",
       "      <td>205</td>\n",
       "      <td>Химфак</td>\n",
       "      <td></td>\n",
       "      <td>основная</td>\n",
       "      <td>2</td>\n",
       "    </tr>\n",
       "    <tr>\n",
       "      <th>31</th>\n",
       "      <td>9/7/2018 22:05:05</td>\n",
       "      <td>83b3d3993fddb6b5727bf3d6a0560fcb</td>\n",
       "      <td>16</td>\n",
       "      <td>Останин Г.С.</td>\n",
       "      <td>113</td>\n",
       "      <td>Физифак</td>\n",
       "      <td>https://drive.google.com/open?id=1l2if08LIR55j...</td>\n",
       "      <td>основная</td>\n",
       "      <td>1</td>\n",
       "    </tr>\n",
       "    <tr>\n",
       "      <th>32</th>\n",
       "      <td>9/7/2018 22:06:26</td>\n",
       "      <td>4cdf3ee4f20a62cefaaa1169b0fc5d26</td>\n",
       "      <td>5</td>\n",
       "      <td>Багдасарян А.А</td>\n",
       "      <td>204</td>\n",
       "      <td>Химфак</td>\n",
       "      <td></td>\n",
       "      <td>основная</td>\n",
       "      <td>2</td>\n",
       "    </tr>\n",
       "    <tr>\n",
       "      <th>33</th>\n",
       "      <td>9/7/2018 22:09:24</td>\n",
       "      <td>f5ed2cd19ed284cb4497586eaba7c161</td>\n",
       "      <td>21</td>\n",
       "      <td>Назаренко С.В.</td>\n",
       "      <td>240м</td>\n",
       "      <td>Физифак</td>\n",
       "      <td></td>\n",
       "      <td>специальная</td>\n",
       "      <td>2</td>\n",
       "    </tr>\n",
       "    <tr>\n",
       "      <th>34</th>\n",
       "      <td>9/7/2018 22:26:52</td>\n",
       "      <td>3ae26dd808995c63bddeb8c161c71126</td>\n",
       "      <td>26</td>\n",
       "      <td>Эль Хадж Дау К. И.</td>\n",
       "      <td>208м</td>\n",
       "      <td>Физифак</td>\n",
       "      <td></td>\n",
       "      <td>основная</td>\n",
       "      <td>2</td>\n",
       "    </tr>\n",
       "    <tr>\n",
       "      <th>35</th>\n",
       "      <td>9/8/2018 10:51:35</td>\n",
       "      <td>62dd46e90da22201c4212209d4567e60</td>\n",
       "      <td>20</td>\n",
       "      <td>Моисеенко В.Л.</td>\n",
       "      <td>210</td>\n",
       "      <td>Химфак</td>\n",
       "      <td></td>\n",
       "      <td>основная</td>\n",
       "      <td>2</td>\n",
       "    </tr>\n",
       "    <tr>\n",
       "      <th>36</th>\n",
       "      <td>9/7/2018 22:58:05</td>\n",
       "      <td>611cb46a3b4c88b284351e6bb2c202d3</td>\n",
       "      <td>19</td>\n",
       "      <td>Мосейчева А.А</td>\n",
       "      <td>201</td>\n",
       "      <td>Химфак</td>\n",
       "      <td></td>\n",
       "      <td>основная</td>\n",
       "      <td>2</td>\n",
       "    </tr>\n",
       "    <tr>\n",
       "      <th>37</th>\n",
       "      <td>9/7/2018 22:47:46</td>\n",
       "      <td>177cda4e87c61dbc9a766bacf9791223</td>\n",
       "      <td>20</td>\n",
       "      <td>Петухова А.А.</td>\n",
       "      <td>201</td>\n",
       "      <td>Химфак</td>\n",
       "      <td></td>\n",
       "      <td>основная</td>\n",
       "      <td>2</td>\n",
       "    </tr>\n",
       "    <tr>\n",
       "      <th>38</th>\n",
       "      <td>9/8/2018 11:38:23</td>\n",
       "      <td>e9a2dd421625d022c92af00c9ac97674</td>\n",
       "      <td>20</td>\n",
       "      <td>Ткаченко В.Т.</td>\n",
       "      <td>207</td>\n",
       "      <td>Химфак</td>\n",
       "      <td></td>\n",
       "      <td>основная</td>\n",
       "      <td>2</td>\n",
       "    </tr>\n",
       "    <tr>\n",
       "      <th>39</th>\n",
       "      <td>9/8/2018 10:49:16</td>\n",
       "      <td>c7aafece02af5f2dfa5ab9df12c04643</td>\n",
       "      <td>15</td>\n",
       "      <td>Жигилева Е.А.</td>\n",
       "      <td>209</td>\n",
       "      <td>Химфак</td>\n",
       "      <td></td>\n",
       "      <td>подготовительная</td>\n",
       "      <td>2</td>\n",
       "    </tr>\n",
       "    <tr>\n",
       "      <th>40</th>\n",
       "      <td>9/8/2018 11:47:29</td>\n",
       "      <td>5d6634d7c87de05a7a8b838fbff27219</td>\n",
       "      <td>18</td>\n",
       "      <td>Биняковский А. А.</td>\n",
       "      <td>204</td>\n",
       "      <td>Химфак</td>\n",
       "      <td></td>\n",
       "      <td>основная</td>\n",
       "      <td>2</td>\n",
       "    </tr>\n",
       "    <tr>\n",
       "      <th>41</th>\n",
       "      <td>9/8/2018 11:59:27</td>\n",
       "      <td>51106c8d469fcdc6e902e352b7e15c55</td>\n",
       "      <td>20</td>\n",
       "      <td>Буркин. К. М.</td>\n",
       "      <td>205</td>\n",
       "      <td>Химфак</td>\n",
       "      <td></td>\n",
       "      <td>основная</td>\n",
       "      <td>2</td>\n",
       "    </tr>\n",
       "    <tr>\n",
       "      <th>42</th>\n",
       "      <td>9/8/2018 11:36:40</td>\n",
       "      <td>813b7ef172868a288a634e64b0c4d613</td>\n",
       "      <td>20</td>\n",
       "      <td>Малкин Н.А.</td>\n",
       "      <td>211</td>\n",
       "      <td>Химфак</td>\n",
       "      <td></td>\n",
       "      <td>основная</td>\n",
       "      <td>2</td>\n",
       "    </tr>\n",
       "    <tr>\n",
       "      <th>43</th>\n",
       "      <td>9/8/2018 11:40:56</td>\n",
       "      <td>921be457f2ff870c2087959922ea303a</td>\n",
       "      <td>20</td>\n",
       "      <td>Орлова А. В.</td>\n",
       "      <td>210</td>\n",
       "      <td>Химфак</td>\n",
       "      <td></td>\n",
       "      <td>основная</td>\n",
       "      <td>2</td>\n",
       "    </tr>\n",
       "    <tr>\n",
       "      <th>44</th>\n",
       "      <td>9/8/2018 12:34:27</td>\n",
       "      <td>c26288a23e00a613d1f14e4e18c21caa</td>\n",
       "      <td>20</td>\n",
       "      <td>Ермолаев Н.А.</td>\n",
       "      <td>305</td>\n",
       "      <td>Физифак</td>\n",
       "      <td></td>\n",
       "      <td>основная</td>\n",
       "      <td>3</td>\n",
       "    </tr>\n",
       "    <tr>\n",
       "      <th>45</th>\n",
       "      <td>9/8/2018 13:30:39</td>\n",
       "      <td>dac7719ebd2295e43d58566b81cd5a53</td>\n",
       "      <td>16</td>\n",
       "      <td>Шишкин А.П.</td>\n",
       "      <td>217</td>\n",
       "      <td>Физифак</td>\n",
       "      <td></td>\n",
       "      <td>основная</td>\n",
       "      <td>2</td>\n",
       "    </tr>\n",
       "    <tr>\n",
       "      <th>46</th>\n",
       "      <td>9/8/2018 13:31:32</td>\n",
       "      <td>d91e4aa3acdd84e1b97df84d7b07f85a</td>\n",
       "      <td>20</td>\n",
       "      <td>Зверев</td>\n",
       "      <td>209</td>\n",
       "      <td>Физифак</td>\n",
       "      <td></td>\n",
       "      <td>подготовительная</td>\n",
       "      <td>2</td>\n",
       "    </tr>\n",
       "    <tr>\n",
       "      <th>47</th>\n",
       "      <td>9/8/2018 13:34:39</td>\n",
       "      <td>25a899db5da35ed584bdd59c5658af95</td>\n",
       "      <td>21</td>\n",
       "      <td>Лукманов A. Р.</td>\n",
       "      <td>210</td>\n",
       "      <td>Физифак</td>\n",
       "      <td>https://drive.google.com/open?id=1F2Lm_lp_viGt...</td>\n",
       "      <td>подготовительная</td>\n",
       "      <td>2</td>\n",
       "    </tr>\n",
       "    <tr>\n",
       "      <th>48</th>\n",
       "      <td>9/8/2018 13:43:51</td>\n",
       "      <td>53aeaeea43b73d8197839ca5199973df</td>\n",
       "      <td>19</td>\n",
       "      <td>Гатина М.И.</td>\n",
       "      <td>212</td>\n",
       "      <td>Физифак</td>\n",
       "      <td></td>\n",
       "      <td>основная</td>\n",
       "      <td>2</td>\n",
       "    </tr>\n",
       "    <tr>\n",
       "      <th>49</th>\n",
       "      <td>9/8/2018 13:46:31</td>\n",
       "      <td>3e48894fa3d55de4fcb85355860f0aa7</td>\n",
       "      <td>21</td>\n",
       "      <td>Пушко П. А.</td>\n",
       "      <td>212</td>\n",
       "      <td>Физифак</td>\n",
       "      <td></td>\n",
       "      <td>основная</td>\n",
       "      <td>2</td>\n",
       "    </tr>\n",
       "  </tbody>\n",
       "</table>\n",
       "</div>"
      ],
      "text/plain": [
       "             Timestamp                               key  test_rool  \\\n",
       "0    9/4/2018 23:20:14  2a734d098452ae0f283b0589db437d06         23   \n",
       "1    9/8/2018 13:36:33  ff63cf8168b362978f3d0f242109bac5         21   \n",
       "2   8/31/2018 20:54:31  1c0c95e1a97a6635367991b902b44def          1   \n",
       "3   8/31/2018 21:09:25  eba5ac70cb76ada5d3809e6095d048fe          1   \n",
       "4   8/31/2018 21:57:02  e52fd7700fb6fe94e8a060d7cb279ebe          3   \n",
       "5    9/8/2018 18:33:19  89e35c3e4995d4020489ca62fd0c2c03         24   \n",
       "6    9/1/2018 10:25:44  3165b49d0d3a92fb655a0252292fec70          3   \n",
       "7    9/5/2018 21:05:23  944f2eae5dca3b39848fb33adc8811b4         13   \n",
       "8    9/8/2018 13:19:48  530df3ed0a0bc8a8a6c1c7ae376ed92a         19   \n",
       "9    9/1/2018 19:02:57  57a3dbe1bbd0a7ec399bbfb856da8699          2   \n",
       "10   9/1/2018 22:57:02  72b63815fabd121152d700a4e32f296b          2   \n",
       "11   9/8/2018 13:23:30  2a0131b10fd6503dec816519880b0ea3         24   \n",
       "12   9/4/2018 22:54:59  e5d7578cf2f6282c78e3aaed716927f0         23   \n",
       "13   9/3/2018 11:39:52  02a0143763c531090396553e78fed7cb          0   \n",
       "14   9/8/2018 13:27:41  b336c1397a8e7f931ac408affe204ed3         18   \n",
       "15   9/4/2018 12:12:35  ff63cf8168b362978f3d0f242109bac5          5   \n",
       "16   9/4/2018 13:43:48  65bb262678e5afdead1797da8535c8f3         21   \n",
       "17   9/4/2018 18:57:35  c828a1d7b9ff58dff05e875f11dff3a8          6   \n",
       "18   9/4/2018 23:01:51  5ab5b99c4af4c1550ee50707253b3558         16   \n",
       "19   9/8/2018 13:31:40  c952b1fb38eb18efdb1a3f6d3e65e8ad         18   \n",
       "20   9/5/2018 17:31:44  218af427345f69fd49efb17f3ad44448         20   \n",
       "21   9/5/2018 17:38:30  bd260698dd32d6e2979b97a7a42b3a3d         13   \n",
       "22   9/5/2018 18:20:27  a9eeacf2e363217dfcd096fb746a6338         21   \n",
       "23    9/6/2018 0:27:58  c4be70a06b4d6e50f7f0773cdf7995e4         11   \n",
       "24   9/6/2018 19:02:02  dd9aa0bdd26e38e4f7f66cc470878844         13   \n",
       "25   9/7/2018 16:16:57  83f00c90cb6e1939678fa2e4faf8d67f         18   \n",
       "26   9/8/2018 13:29:52  b3c8938fd728873fc38c742f4db7750d         21   \n",
       "27   9/7/2018 19:21:00  db140b959585d16934493c0513643f11         18   \n",
       "28   9/8/2018 11:40:56  24d705e78bec54f397c2cbeee7fd5ff6         21   \n",
       "29   9/8/2018 10:51:23  bd1d161aafeafe79b65cdade853d3ccf         23   \n",
       "30   9/7/2018 22:29:54  3f7b7628d621ca9cca34a347d45b4db7         20   \n",
       "31   9/7/2018 22:05:05  83b3d3993fddb6b5727bf3d6a0560fcb         16   \n",
       "32   9/7/2018 22:06:26  4cdf3ee4f20a62cefaaa1169b0fc5d26          5   \n",
       "33   9/7/2018 22:09:24  f5ed2cd19ed284cb4497586eaba7c161         21   \n",
       "34   9/7/2018 22:26:52  3ae26dd808995c63bddeb8c161c71126         26   \n",
       "35   9/8/2018 10:51:35  62dd46e90da22201c4212209d4567e60         20   \n",
       "36   9/7/2018 22:58:05  611cb46a3b4c88b284351e6bb2c202d3         19   \n",
       "37   9/7/2018 22:47:46  177cda4e87c61dbc9a766bacf9791223         20   \n",
       "38   9/8/2018 11:38:23  e9a2dd421625d022c92af00c9ac97674         20   \n",
       "39   9/8/2018 10:49:16  c7aafece02af5f2dfa5ab9df12c04643         15   \n",
       "40   9/8/2018 11:47:29  5d6634d7c87de05a7a8b838fbff27219         18   \n",
       "41   9/8/2018 11:59:27  51106c8d469fcdc6e902e352b7e15c55         20   \n",
       "42   9/8/2018 11:36:40  813b7ef172868a288a634e64b0c4d613         20   \n",
       "43   9/8/2018 11:40:56  921be457f2ff870c2087959922ea303a         20   \n",
       "44   9/8/2018 12:34:27  c26288a23e00a613d1f14e4e18c21caa         20   \n",
       "45   9/8/2018 13:30:39  dac7719ebd2295e43d58566b81cd5a53         16   \n",
       "46   9/8/2018 13:31:32  d91e4aa3acdd84e1b97df84d7b07f85a         20   \n",
       "47   9/8/2018 13:34:39  25a899db5da35ed584bdd59c5658af95         21   \n",
       "48   9/8/2018 13:43:51  53aeaeea43b73d8197839ca5199973df         19   \n",
       "49   9/8/2018 13:46:31  3e48894fa3d55de4fcb85355860f0aa7         21   \n",
       "\n",
       "                suname group Факультет  \\\n",
       "0       Зимнякова П.Е.   218   Физифак   \n",
       "1          Король А.К.   205   Физифак   \n",
       "2                                        \n",
       "3                                        \n",
       "4                                        \n",
       "5         Давыдов М.М.   210   Физифак   \n",
       "6                                        \n",
       "7         Андреев А.А.   212   Физифак   \n",
       "8         Лабунов А.С.   209   Физифак   \n",
       "9                                        \n",
       "10                                       \n",
       "11   Альперович К. Д.    209   Физифак   \n",
       "12       Ерофеева А.В.   213   Физифак   \n",
       "13                                       \n",
       "14       Жариков В.И.    209   Физифак   \n",
       "15                 а а     1   Физифак   \n",
       "16          Кулёв М.С.   202   Физифак   \n",
       "17       Казаркин Д.М.   207   Физифак   \n",
       "18         Беляев М.Е.   203   Физифак   \n",
       "19      Костенко Т. М.   206   Физифак   \n",
       "20      Иноземцев М.А.  229м   Физифак   \n",
       "21        Власов В. А.   105   Физифак   \n",
       "22        Пинчук И. С.   206    Химфак   \n",
       "23   Маркеленкова М.Р.  м201    Эконом   \n",
       "24      Хуцистова А.О.   214   Физифак   \n",
       "25         Якимов Н.П.   207    Химфак   \n",
       "26             Преснов   205   Физифак   \n",
       "27      Миронова Е. М.   204    Химфак   \n",
       "28      Максимова М.А.   204    Химфак   \n",
       "29   Разумовская А. В.   210    Химфак   \n",
       "30         Фурман А.Н.   205    Химфак   \n",
       "31        Останин Г.С.   113   Физифак   \n",
       "32      Багдасарян А.А   204    Химфак   \n",
       "33      Назаренко С.В.  240м   Физифак   \n",
       "34  Эль Хадж Дау К. И.  208м   Физифак   \n",
       "35      Моисеенко В.Л.   210    Химфак   \n",
       "36       Мосейчева А.А   201    Химфак   \n",
       "37       Петухова А.А.   201    Химфак   \n",
       "38       Ткаченко В.Т.   207    Химфак   \n",
       "39       Жигилева Е.А.   209    Химфак   \n",
       "40   Биняковский А. А.   204    Химфак   \n",
       "41       Буркин. К. М.   205    Химфак   \n",
       "42         Малкин Н.А.   211    Химфак   \n",
       "43        Орлова А. В.   210    Химфак   \n",
       "44       Ермолаев Н.А.   305   Физифак   \n",
       "45         Шишкин А.П.   217   Физифак   \n",
       "46              Зверев   209   Физифак   \n",
       "47      Лукманов A. Р.   210   Физифак   \n",
       "48         Гатина М.И.   212   Физифак   \n",
       "49        Пушко П. А.    212   Физифак   \n",
       "\n",
       "                              Фото справки медосмотра  \\\n",
       "0                                                       \n",
       "1                                                       \n",
       "2                                                       \n",
       "3                                                       \n",
       "4                                                       \n",
       "5                                                       \n",
       "6                                                       \n",
       "7                                                       \n",
       "8                                                       \n",
       "9                                                       \n",
       "10                                                      \n",
       "11                                                      \n",
       "12                                                      \n",
       "13                                                      \n",
       "14                                                      \n",
       "15                                                      \n",
       "16  https://drive.google.com/open?id=1CM9y-ONWc8hl...   \n",
       "17                                                      \n",
       "18                                                      \n",
       "19                                                      \n",
       "20                                                      \n",
       "21  https://drive.google.com/open?id=1awIIbAu-_t5Z...   \n",
       "22                                                      \n",
       "23                                                      \n",
       "24                                                      \n",
       "25                                                      \n",
       "26                                                      \n",
       "27                                                      \n",
       "28                                                      \n",
       "29                                                      \n",
       "30                                                      \n",
       "31  https://drive.google.com/open?id=1l2if08LIR55j...   \n",
       "32                                                      \n",
       "33                                                      \n",
       "34                                                      \n",
       "35                                                      \n",
       "36                                                      \n",
       "37                                                      \n",
       "38                                                      \n",
       "39                                                      \n",
       "40                                                      \n",
       "41                                                      \n",
       "42                                                      \n",
       "43                                                      \n",
       "44                                                      \n",
       "45                                                      \n",
       "46                                                      \n",
       "47  https://drive.google.com/open?id=1F2Lm_lp_viGt...   \n",
       "48                                                      \n",
       "49                                                      \n",
       "\n",
       "   Медицинская группа (на загруженной справке)  cource  \n",
       "0                                      основная      2  \n",
       "1                                      основная      2  \n",
       "2                                                       \n",
       "3                                                       \n",
       "4                                                       \n",
       "5                                      основная      2  \n",
       "6                                                       \n",
       "7                                      основная      2  \n",
       "8                                      основная      2  \n",
       "9                                                       \n",
       "10                                                      \n",
       "11                                     основная      2  \n",
       "12                                     основная      2  \n",
       "13                                                      \n",
       "14                                     основная      2  \n",
       "15                                     основная      1  \n",
       "16                                     основная      2  \n",
       "17                                     основная      2  \n",
       "18                                     основная      2  \n",
       "19                                     основная      2  \n",
       "20                                     основная      2  \n",
       "21                                     основная      1  \n",
       "22                                     основная      2  \n",
       "23                                     основная      м  \n",
       "24                                     основная      2  \n",
       "25                                     основная      2  \n",
       "26                                     основная      2  \n",
       "27                             подготовительная      2  \n",
       "28                             подготовительная      2  \n",
       "29                                     основная      2  \n",
       "30                                     основная      2  \n",
       "31                                     основная      1  \n",
       "32                                     основная      2  \n",
       "33                                  специальная      2  \n",
       "34                                     основная      2  \n",
       "35                                     основная      2  \n",
       "36                                     основная      2  \n",
       "37                                     основная      2  \n",
       "38                                     основная      2  \n",
       "39                             подготовительная      2  \n",
       "40                                     основная      2  \n",
       "41                                     основная      2  \n",
       "42                                     основная      2  \n",
       "43                                     основная      2  \n",
       "44                                     основная      3  \n",
       "45                                     основная      2  \n",
       "46                             подготовительная      2  \n",
       "47                             подготовительная      2  \n",
       "48                                     основная      2  \n",
       "49                                     основная      2  "
      ]
     },
     "execution_count": 41,
     "metadata": {},
     "output_type": "execute_result"
    }
   ],
   "source": [
    "df"
   ]
  },
  {
   "cell_type": "code",
   "execution_count": null,
   "metadata": {},
   "outputs": [],
   "source": []
  },
  {
   "cell_type": "code",
   "execution_count": 42,
   "metadata": {},
   "outputs": [],
   "source": [
    "#get list with same property (as faculty and test_rool > 10 )\n",
    "#TODO for group filter 201m?\n",
    "ndf = util.get_row_by_keys(df, key_value=['Химфак', '2'], key_column=['Факультет','cource'])\n",
    "ndf = util.get_row_by_keys(df, ['10',], ['test_rool'], ratio=\">\")"
   ]
  },
  {
   "cell_type": "code",
   "execution_count": null,
   "metadata": {},
   "outputs": [],
   "source": [
    "# add dates to dataframe\n",
    "col_name=['key', 'suname', 'test_rool', 'group']\n",
    "dates = util.get_dates(3,3,7)\n",
    "df2 = pd.DataFrame(\n",
    "            [[''] * len(dates)], \n",
    "            index=df.index, \n",
    "            columns=dates\n",
    "        )\n",
    "ndf = pd.concat([ndf[col_name], df2], axis=1)"
   ]
  },
  {
   "cell_type": "code",
   "execution_count": null,
   "metadata": {},
   "outputs": [],
   "source": [
    "##get needed col\n",
    "#col_name=['key', 'suname', 'test_rool', 'group']\n",
    "df#[col_name]"
   ]
  },
  {
   "cell_type": "code",
   "execution_count": null,
   "metadata": {},
   "outputs": [],
   "source": [
    "import PandasForm, SyncGraph\n"
   ]
  },
  {
   "cell_type": "code",
   "execution_count": null,
   "metadata": {},
   "outputs": [],
   "source": [
    "def search_id_in_list(list_sheets, name):\n",
    "    for sheet in list_sheets:\n",
    "        if sheet['name'] == name:\n",
    "            return sheet['id']\n",
    "    return None"
   ]
  },
  {
   "cell_type": "code",
   "execution_count": null,
   "metadata": {},
   "outputs": [],
   "source": [
    "# check add key or create new form\n",
    "folder_id='1OnF9ZpSiO5IYB4Ns15PZgsTc14DVRr3z'\n",
    "tittle=\"hf2\"\n",
    "fc = PandasForm.FormCreator(title=tittle, folder_id=folder_id)\n",
    "if fc.check_shet_in_folder(pg=c, sheet_name=fc.title):\n",
    "    # update with insert key\n",
    "    sg = SyncGraph.Graph(None)\n",
    "    wks = c.open_by_key(search_id_in_list(c.list_ssheets(folder_id), tittle))\n",
    "    sg.add_key(df, wks.sheet1, key_col=['key']) #.sheet1\n",
    "    args = {\"to_key_colname\": [\"key\",], \n",
    "            \"to_values_colname\": ['suname', 'test_rool', 'group'],            \n",
    "           }\n",
    "    util.sync_by_colname(from_wks=df[col_name], to_wks=wks.sheet1, **args)\n",
    "else:\n",
    "    #create new\n",
    "    fc.df = df #[col_name]\n",
    "    fc.create_sheet(pg=c)"
   ]
  },
  {
   "cell_type": "code",
   "execution_count": 51,
   "metadata": {},
   "outputs": [],
   "source": [
    "\n",
    "q = 'kamironova2012@yandex.ru'"
   ]
  },
  {
   "cell_type": "code",
   "execution_count": 52,
   "metadata": {},
   "outputs": [
    {
     "data": {
      "text/plain": [
       "'9f38155d1f444829a49df7995ff083c1'"
      ]
     },
     "execution_count": 52,
     "metadata": {},
     "output_type": "execute_result"
    }
   ],
   "source": [
    "\n",
    "hashlib.md5(q.encode('UTF-8')).hexdigest()"
   ]
  },
  {
   "cell_type": "code",
   "execution_count": 48,
   "metadata": {},
   "outputs": [],
   "source": [
    "#util.get_dates(5,3,7)"
   ]
  },
  {
   "cell_type": "markdown",
   "metadata": {},
   "source": [
    "# Generate teams"
   ]
  },
  {
   "cell_type": "code",
   "execution_count": null,
   "metadata": {},
   "outputs": [],
   "source": [
    "import datetime\n",
    "todaydate = datetime.datetime.now().strftime(\"%m-%d\")\n",
    "tomorow = df.columns[df.columns.get_loc(todaydate) + 1]\n",
    "today_col_ind = df.columns.get_loc(todaydate)"
   ]
  },
  {
   "cell_type": "code",
   "execution_count": null,
   "metadata": {},
   "outputs": [],
   "source": [
    "folder_id='1OnF9ZpSiO5IYB4Ns15PZgsTc14DVRr3z'\n",
    "tittle = 'ff2'\n",
    "wks = c.open_by_key(search_id_in_list(c.list_ssheets(folder_id), tittle))"
   ]
  },
  {
   "cell_type": "code",
   "execution_count": null,
   "metadata": {},
   "outputs": [],
   "source": [
    "players_count = sum([int(s or 0) for s in freshdf[todaydate]])"
   ]
  },
  {
   "cell_type": "code",
   "execution_count": null,
   "metadata": {},
   "outputs": [],
   "source": [
    "if players_count % 3 == 0:\n",
    "    teams_count = players_count / 3 - 1\n",
    "else:\n",
    "    teams_count = players_count // 3"
   ]
  },
  {
   "cell_type": "code",
   "execution_count": null,
   "metadata": {},
   "outputs": [],
   "source": [
    "team_names = \"abcdefghigklmnopq\"\n",
    "players_count / 3\n",
    "team_list = []\n",
    "for i in team_names[:teams_count]:\n",
    "    team_list.extend(list(i * 3))\n",
    "team_list.extend(list('R' * (players_count % 3 or 3)))"
   ]
  },
  {
   "cell_type": "code",
   "execution_count": null,
   "metadata": {},
   "outputs": [],
   "source": [
    "import random\n",
    "random.shuffle(team_list)"
   ]
  },
  {
   "cell_type": "code",
   "execution_count": null,
   "metadata": {},
   "outputs": [],
   "source": [
    "i = 0\n",
    "for ind, v in enumerate(freshdf[todaydate]):\n",
    "    if v:\n",
    "        freshdf[tomorow][ind] = team_list[i]\n",
    "        i += 1"
   ]
  },
  {
   "cell_type": "code",
   "execution_count": null,
   "metadata": {},
   "outputs": [],
   "source": [
    "freshdf = wks.sheet1.get_as_df()"
   ]
  },
  {
   "cell_type": "code",
   "execution_count": null,
   "metadata": {},
   "outputs": [],
   "source": [
    "freshdf['today'] = freshdf[todaydate]"
   ]
  },
  {
   "cell_type": "code",
   "execution_count": null,
   "metadata": {},
   "outputs": [],
   "source": [
    "util.get_row_by_keys(freshdf, key_column=['today',], key_value=[1,])"
   ]
  },
  {
   "cell_type": "code",
   "execution_count": null,
   "metadata": {},
   "outputs": [],
   "source": [
    "freshdf"
   ]
  },
  {
   "cell_type": "code",
   "execution_count": null,
   "metadata": {},
   "outputs": [],
   "source": []
  },
  {
   "cell_type": "code",
   "execution_count": null,
   "metadata": {},
   "outputs": [],
   "source": [
    "wks.sheet1.update_col(index=today_col_ind + 2,row_offset=1,values=freshdf[tomorow].values.tolist())"
   ]
  },
  {
   "cell_type": "code",
   "execution_count": null,
   "metadata": {},
   "outputs": [],
   "source": []
  },
  {
   "cell_type": "code",
   "execution_count": null,
   "metadata": {},
   "outputs": [],
   "source": [
    "#col location\n",
    "today_col_ind = df.columns.get_loc(todaydate)\n",
    "df[df.columns[today_col_ind]]"
   ]
  },
  {
   "cell_type": "code",
   "execution_count": null,
   "metadata": {},
   "outputs": [],
   "source": [
    "fc = PandasForm.FormCreator(title=\"ff2\", folder_id='1OnF9ZpSiO5IYB4Ns15PZgsTc14DVRr3z')\n",
    "fc.df = df[col_name]\n",
    "fc.create_sheet(pg=c)"
   ]
  },
  {
   "cell_type": "code",
   "execution_count": null,
   "metadata": {},
   "outputs": [],
   "source": [
    "c.list_ssheets(parent_id='1OnF9ZpSiO5IYB4Ns15PZgsTc14DVRr3z')"
   ]
  },
  {
   "cell_type": "code",
   "execution_count": null,
   "metadata": {},
   "outputs": [],
   "source": [
    "sh = c.open('ff2')"
   ]
  },
  {
   "cell_type": "code",
   "execution_count": null,
   "metadata": {},
   "outputs": [],
   "source": [
    "sh.sheet1.get_as_df()"
   ]
  },
  {
   "cell_type": "code",
   "execution_count": null,
   "metadata": {},
   "outputs": [],
   "source": [
    "score_to_int(df[\"Score\"][0]) > 19"
   ]
  },
  {
   "cell_type": "code",
   "execution_count": null,
   "metadata": {},
   "outputs": [],
   "source": [
    "from GDrive import GDrive\n",
    "g = GDrive(sheet_id='1cWN-sMoaV_5NjWTcjryRx-6uxi29K9KaWt5vHa9vQog',\n",
    "                   graph='1at8ivfcSDq3W_LFdwzFqVuYfQ27c18Ka-F1Cpen844g'\n",
    "                   )\n",
    "#g.generate(category=['Секция', 'Факультет'], keys=['ФИО', 'Группа'],\n",
    "#                   current_folder='19PZiIxtt9nvLDHst4EZp-FMWYQO4yrKa',\n",
    "#                   graph_wks=util.read_sheet('1ZR38L8tFMdUTODVQ0cdz79jPKX4xpNn7R11S82u5Jyk'))"
   ]
  },
  {
   "cell_type": "markdown",
   "metadata": {},
   "source": [
    "# Add Points for Relay"
   ]
  },
  {
   "cell_type": "code",
   "execution_count": 21,
   "metadata": {},
   "outputs": [],
   "source": [
    "from TransferFunctions import BasketballResults\n",
    "bres = BasketballResults('1GUCw3XNS0zWYgjv6dUACc5IoteSYft3DRW58vrDCIKA')"
   ]
  },
  {
   "cell_type": "code",
   "execution_count": 7,
   "metadata": {},
   "outputs": [
    {
     "data": {
      "text/plain": [
       "<module 'TransferFunctions' from '/home/denis/Program/graph2/TransferFunctions.py'>"
      ]
     },
     "execution_count": 7,
     "metadata": {},
     "output_type": "execute_result"
    }
   ],
   "source": [
    "import importlib\n",
    "\n",
    "importlib.reload(TransferFunctions)"
   ]
  },
  {
   "cell_type": "code",
   "execution_count": 4,
   "metadata": {},
   "outputs": [],
   "source": [
    "import TransferFunctions"
   ]
  },
  {
   "cell_type": "code",
   "execution_count": 8,
   "metadata": {},
   "outputs": [],
   "source": [
    "bres = TransferFunctions.BasketballResults('1GUCw3XNS0zWYgjv6dUACc5IoteSYft3DRW58vrDCIKA')\n",
    "df = bres.get_df()\n"
   ]
  },
  {
   "cell_type": "code",
   "execution_count": 9,
   "metadata": {},
   "outputs": [
    {
     "data": {
      "text/html": [
       "<div>\n",
       "<style scoped>\n",
       "    .dataframe tbody tr th:only-of-type {\n",
       "        vertical-align: middle;\n",
       "    }\n",
       "\n",
       "    .dataframe tbody tr th {\n",
       "        vertical-align: top;\n",
       "    }\n",
       "\n",
       "    .dataframe thead th {\n",
       "        text-align: right;\n",
       "    }\n",
       "</style>\n",
       "<table border=\"1\" class=\"dataframe\">\n",
       "  <thead>\n",
       "    <tr style=\"text-align: right;\">\n",
       "      <th></th>\n",
       "      <th>Timestamp</th>\n",
       "      <th>ref1</th>\n",
       "      <th>ref23</th>\n",
       "      <th>faculty</th>\n",
       "      <th>relay_1</th>\n",
       "      <th>relay_2</th>\n",
       "      <th>relay_3</th>\n",
       "      <th>relay_4</th>\n",
       "      <th>relay_5</th>\n",
       "      <th>relay_6</th>\n",
       "      <th>relay_7</th>\n",
       "      <th>marked</th>\n",
       "    </tr>\n",
       "  </thead>\n",
       "  <tbody>\n",
       "    <tr>\n",
       "      <th>0</th>\n",
       "      <td>9/14/2018 16:11:41</td>\n",
       "      <td>ffbskt@gmail.com</td>\n",
       "      <td>msufizra@gmail.com</td>\n",
       "      <td>Физики2</td>\n",
       "      <td>bce</td>\n",
       "      <td>eba</td>\n",
       "      <td></td>\n",
       "      <td></td>\n",
       "      <td></td>\n",
       "      <td></td>\n",
       "      <td></td>\n",
       "      <td></td>\n",
       "    </tr>\n",
       "    <tr>\n",
       "      <th>1</th>\n",
       "      <td>9/14/2018 16:55:35</td>\n",
       "      <td>ffbskt@gmail.com</td>\n",
       "      <td></td>\n",
       "      <td>Физики2</td>\n",
       "      <td>abc</td>\n",
       "      <td></td>\n",
       "      <td></td>\n",
       "      <td></td>\n",
       "      <td></td>\n",
       "      <td></td>\n",
       "      <td></td>\n",
       "      <td></td>\n",
       "    </tr>\n",
       "  </tbody>\n",
       "</table>\n",
       "</div>"
      ],
      "text/plain": [
       "            Timestamp              ref1               ref23  faculty relay_1  \\\n",
       "0  9/14/2018 16:11:41  ffbskt@gmail.com  msufizra@gmail.com  Физики2     bce   \n",
       "1  9/14/2018 16:55:35  ffbskt@gmail.com                      Физики2     abc   \n",
       "\n",
       "  relay_2 relay_3 relay_4 relay_5 relay_6 relay_7 marked  \n",
       "0     eba                                                 \n",
       "1                                                         "
      ]
     },
     "execution_count": 9,
     "metadata": {},
     "output_type": "execute_result"
    }
   ],
   "source": [
    "df"
   ]
  },
  {
   "cell_type": "code",
   "execution_count": 36,
   "metadata": {},
   "outputs": [],
   "source": [
    "ref_point = 2\n",
    "# df \n",
    "for row in df.iterrows():\n",
    "    ans = []\n",
    "    #print(row[1][11])\n",
    "    if row[1][11] and int(row[1][11]) < 12:\n",
    "        print(row[10])\n",
    "        if int(row[1][11]) == 1: # add ref keys\n",
    "            ans.extend([(mail_hesh(q), ref_point) for q in row[1][2].split()]) \n",
    "            #mark wks 2\n",
    "        for i in range(min(4, row[1][11]), 11):\n",
    "            print(row[1][i])\n",
    "            #ans.extend(#teampoints)\n",
    "                \n",
    "    elif:\n",
    "        ans.append(ref_point)\n",
    "        ans.extend([(mail_hesh(q), ref_point) for q in row[1][2].split()])\n",
    "        \n",
    "        "
   ]
  },
  {
   "cell_type": "code",
   "execution_count": 13,
   "metadata": {},
   "outputs": [
    {
     "data": {
      "text/plain": [
       "Index(['ref1'], dtype='object')"
      ]
     },
     "execution_count": 13,
     "metadata": {},
     "output_type": "execute_result"
    }
   ],
   "source": [
    "df.columns[[1]]"
   ]
  },
  {
   "cell_type": "code",
   "execution_count": 21,
   "metadata": {},
   "outputs": [
    {
     "data": {
      "text/plain": [
       "[]"
      ]
     },
     "execution_count": 21,
     "metadata": {},
     "output_type": "execute_result"
    }
   ],
   "source": [
    "a = ''\n",
    "[(mail_hesh(q), 2) for q in a.split()]"
   ]
  },
  {
   "cell_type": "code",
   "execution_count": 42,
   "metadata": {},
   "outputs": [
    {
     "data": {
      "text/plain": [
       "[1, 2, 2, 7]"
      ]
     },
     "execution_count": 42,
     "metadata": {},
     "output_type": "execute_result"
    }
   ],
   "source": [
    "[1,2] + [2, 7]"
   ]
  },
  {
   "cell_type": "code",
   "execution_count": null,
   "metadata": {},
   "outputs": [],
   "source": [
    "def add_points_by_keys(keys, edited_df, val_col, points, key_col='key'): #  df[2].split() + df[[0]]\n",
    "    for key in keys:\n",
    "        #ad .. apply( + == * points)"
   ]
  },
  {
   "cell_type": "code",
   "execution_count": null,
   "metadata": {},
   "outputs": [],
   "source": [
    "def add points_by_mails(mails, edited_df, val_col, points, key_col='key'):\n",
    "    keys = [mail_hesh(mail) for mail in mails]\n",
    "    return add_points_by_keys(keys, edited_df, val_col, points, key_col)"
   ]
  },
  {
   "cell_type": "code",
   "execution_count": null,
   "metadata": {},
   "outputs": [],
   "source": [
    "def add_points_by_teams(team_places_str, team_key_dict): #f(place)\n",
    "    for place, team in enumerate(team_places_str.split()):\n",
    "        keys = team_key_dict[team]\n",
    "        add_points_by_keys(keys, edited_df, val_col, 1 - place * 0.25, key_col)"
   ]
  },
  {
   "cell_type": "code",
   "execution_count": null,
   "metadata": {},
   "outputs": [],
   "source": [
    "fac_to_sheet = {'Физики1':'addid',\n",
    "                'Физики2':'',\n",
    "                'Экономисты1':'',\n",
    "                'Экономисты2':'',\n",
    "                'Химики1':'addid',\n",
    "                'Химики2':'1nYVmnNtnTewo8lxBklCTe1GRSzdxKgJYXgXdqiVXW0g'\n",
    "               }"
   ]
  },
  {
   "cell_type": "code",
   "execution_count": null,
   "metadata": {},
   "outputs": [],
   "source": [
    "def read_teams_result(relay_wks):\n",
    "    df = relay_wks.get_as_df()\n",
    "    \n",
    "    \n"
   ]
  },
  {
   "cell_type": "code",
   "execution_count": 54,
   "metadata": {},
   "outputs": [
    {
     "data": {
      "text/plain": [
       "0    9-14\n",
       "1    9-14\n",
       "Name: Timestamp, dtype: object"
      ]
     },
     "execution_count": 54,
     "metadata": {},
     "output_type": "execute_result"
    }
   ],
   "source": [
    "df['Timestamp'].apply(lambda x: '-'.join(x.split('/')[0:2]))"
   ]
  },
  {
   "cell_type": "code",
   "execution_count": 58,
   "metadata": {},
   "outputs": [
    {
     "ename": "TypeError",
     "evalue": "cannot convert the series to <class 'int'>",
     "output_type": "error",
     "traceback": [
      "\u001b[0;31m---------------------------------------------------------------------------\u001b[0m",
      "\u001b[0;31mTypeError\u001b[0m                                 Traceback (most recent call last)",
      "\u001b[0;32m<ipython-input-58-cfc961ef53af>\u001b[0m in \u001b[0;36m<module>\u001b[0;34m()\u001b[0m\n\u001b[0;32m----> 1\u001b[0;31m \u001b[0mdatetime\u001b[0m\u001b[0;34m.\u001b[0m\u001b[0mdatetime\u001b[0m\u001b[0;34m(\u001b[0m\u001b[0mdf\u001b[0m\u001b[0;34m[\u001b[0m\u001b[0;34m'Timestamp'\u001b[0m\u001b[0;34m]\u001b[0m\u001b[0;34m)\u001b[0m\u001b[0;34m\u001b[0m\u001b[0m\n\u001b[0m",
      "\u001b[0;32m~/anaconda3/lib/python3.6/site-packages/pandas/core/series.py\u001b[0m in \u001b[0;36mwrapper\u001b[0;34m(self)\u001b[0m\n\u001b[1;32m    110\u001b[0m             \u001b[0;32mreturn\u001b[0m \u001b[0mconverter\u001b[0m\u001b[0;34m(\u001b[0m\u001b[0mself\u001b[0m\u001b[0;34m.\u001b[0m\u001b[0miloc\u001b[0m\u001b[0;34m[\u001b[0m\u001b[0;36m0\u001b[0m\u001b[0;34m]\u001b[0m\u001b[0;34m)\u001b[0m\u001b[0;34m\u001b[0m\u001b[0m\n\u001b[1;32m    111\u001b[0m         raise TypeError(\"cannot convert the series to \"\n\u001b[0;32m--> 112\u001b[0;31m                         \"{0}\".format(str(converter)))\n\u001b[0m\u001b[1;32m    113\u001b[0m \u001b[0;34m\u001b[0m\u001b[0m\n\u001b[1;32m    114\u001b[0m     \u001b[0;32mreturn\u001b[0m \u001b[0mwrapper\u001b[0m\u001b[0;34m\u001b[0m\u001b[0m\n",
      "\u001b[0;31mTypeError\u001b[0m: cannot convert the series to <class 'int'>"
     ]
    }
   ],
   "source": [
    "datetime.datetime(df['Timestamp'])"
   ]
  },
  {
   "cell_type": "code",
   "execution_count": null,
   "metadata": {},
   "outputs": [],
   "source": [
    "self.df = self.safe_load(self.col_list)\n",
    "        self.df.rename(columns=self.col_to_rename, inplace=True)"
   ]
  },
  {
   "cell_type": "markdown",
   "metadata": {},
   "source": [
    "# Protected Range"
   ]
  },
  {
   "cell_type": "code",
   "execution_count": 54,
   "metadata": {},
   "outputs": [],
   "source": [
    "c = pygsheets.authorize(outh_file='other.json')\n"
   ]
  },
  {
   "cell_type": "code",
   "execution_count": 55,
   "metadata": {},
   "outputs": [],
   "source": [
    "wks = c.open('ch2').sheet1"
   ]
  },
  {
   "cell_type": "code",
   "execution_count": 70,
   "metadata": {},
   "outputs": [
    {
     "ename": "AttributeError",
     "evalue": "'DataRange' object has no attribute '_protected'",
     "output_type": "error",
     "traceback": [
      "\u001b[0;31m---------------------------------------------------------------------------\u001b[0m",
      "\u001b[0;31mAttributeError\u001b[0m                            Traceback (most recent call last)",
      "\u001b[0;32m~/anaconda3/envs/openlive/lib/python3.7/site-packages/IPython/core/formatters.py\u001b[0m in \u001b[0;36m__call__\u001b[0;34m(self, obj)\u001b[0m\n\u001b[1;32m    700\u001b[0m                 \u001b[0mtype_pprinters\u001b[0m\u001b[0;34m=\u001b[0m\u001b[0mself\u001b[0m\u001b[0;34m.\u001b[0m\u001b[0mtype_printers\u001b[0m\u001b[0;34m,\u001b[0m\u001b[0;34m\u001b[0m\u001b[0m\n\u001b[1;32m    701\u001b[0m                 deferred_pprinters=self.deferred_printers)\n\u001b[0;32m--> 702\u001b[0;31m             \u001b[0mprinter\u001b[0m\u001b[0;34m.\u001b[0m\u001b[0mpretty\u001b[0m\u001b[0;34m(\u001b[0m\u001b[0mobj\u001b[0m\u001b[0;34m)\u001b[0m\u001b[0;34m\u001b[0m\u001b[0m\n\u001b[0m\u001b[1;32m    703\u001b[0m             \u001b[0mprinter\u001b[0m\u001b[0;34m.\u001b[0m\u001b[0mflush\u001b[0m\u001b[0;34m(\u001b[0m\u001b[0;34m)\u001b[0m\u001b[0;34m\u001b[0m\u001b[0m\n\u001b[1;32m    704\u001b[0m             \u001b[0;32mreturn\u001b[0m \u001b[0mstream\u001b[0m\u001b[0;34m.\u001b[0m\u001b[0mgetvalue\u001b[0m\u001b[0;34m(\u001b[0m\u001b[0;34m)\u001b[0m\u001b[0;34m\u001b[0m\u001b[0m\n",
      "\u001b[0;32m~/anaconda3/envs/openlive/lib/python3.7/site-packages/IPython/lib/pretty.py\u001b[0m in \u001b[0;36mpretty\u001b[0;34m(self, obj)\u001b[0m\n\u001b[1;32m    398\u001b[0m                         \u001b[0;32mif\u001b[0m \u001b[0mcls\u001b[0m \u001b[0;32mis\u001b[0m \u001b[0;32mnot\u001b[0m \u001b[0mobject\u001b[0m\u001b[0;31m \u001b[0m\u001b[0;31m\\\u001b[0m\u001b[0;34m\u001b[0m\u001b[0m\n\u001b[1;32m    399\u001b[0m                                 \u001b[0;32mand\u001b[0m \u001b[0mcallable\u001b[0m\u001b[0;34m(\u001b[0m\u001b[0mcls\u001b[0m\u001b[0;34m.\u001b[0m\u001b[0m__dict__\u001b[0m\u001b[0;34m.\u001b[0m\u001b[0mget\u001b[0m\u001b[0;34m(\u001b[0m\u001b[0;34m'__repr__'\u001b[0m\u001b[0;34m)\u001b[0m\u001b[0;34m)\u001b[0m\u001b[0;34m:\u001b[0m\u001b[0;34m\u001b[0m\u001b[0m\n\u001b[0;32m--> 400\u001b[0;31m                             \u001b[0;32mreturn\u001b[0m \u001b[0m_repr_pprint\u001b[0m\u001b[0;34m(\u001b[0m\u001b[0mobj\u001b[0m\u001b[0;34m,\u001b[0m \u001b[0mself\u001b[0m\u001b[0;34m,\u001b[0m \u001b[0mcycle\u001b[0m\u001b[0;34m)\u001b[0m\u001b[0;34m\u001b[0m\u001b[0m\n\u001b[0m\u001b[1;32m    401\u001b[0m \u001b[0;34m\u001b[0m\u001b[0m\n\u001b[1;32m    402\u001b[0m             \u001b[0;32mreturn\u001b[0m \u001b[0m_default_pprint\u001b[0m\u001b[0;34m(\u001b[0m\u001b[0mobj\u001b[0m\u001b[0;34m,\u001b[0m \u001b[0mself\u001b[0m\u001b[0;34m,\u001b[0m \u001b[0mcycle\u001b[0m\u001b[0;34m)\u001b[0m\u001b[0;34m\u001b[0m\u001b[0m\n",
      "\u001b[0;32m~/anaconda3/envs/openlive/lib/python3.7/site-packages/IPython/lib/pretty.py\u001b[0m in \u001b[0;36m_repr_pprint\u001b[0;34m(obj, p, cycle)\u001b[0m\n\u001b[1;32m    693\u001b[0m     \u001b[0;34m\"\"\"A pprint that just redirects to the normal repr function.\"\"\"\u001b[0m\u001b[0;34m\u001b[0m\u001b[0m\n\u001b[1;32m    694\u001b[0m     \u001b[0;31m# Find newlines and replace them with p.break_()\u001b[0m\u001b[0;34m\u001b[0m\u001b[0;34m\u001b[0m\u001b[0m\n\u001b[0;32m--> 695\u001b[0;31m     \u001b[0moutput\u001b[0m \u001b[0;34m=\u001b[0m \u001b[0mrepr\u001b[0m\u001b[0;34m(\u001b[0m\u001b[0mobj\u001b[0m\u001b[0;34m)\u001b[0m\u001b[0;34m\u001b[0m\u001b[0m\n\u001b[0m\u001b[1;32m    696\u001b[0m     \u001b[0;32mfor\u001b[0m \u001b[0midx\u001b[0m\u001b[0;34m,\u001b[0m\u001b[0moutput_line\u001b[0m \u001b[0;32min\u001b[0m \u001b[0menumerate\u001b[0m\u001b[0;34m(\u001b[0m\u001b[0moutput\u001b[0m\u001b[0;34m.\u001b[0m\u001b[0msplitlines\u001b[0m\u001b[0;34m(\u001b[0m\u001b[0;34m)\u001b[0m\u001b[0;34m)\u001b[0m\u001b[0;34m:\u001b[0m\u001b[0;34m\u001b[0m\u001b[0m\n\u001b[1;32m    697\u001b[0m         \u001b[0;32mif\u001b[0m \u001b[0midx\u001b[0m\u001b[0;34m:\u001b[0m\u001b[0;34m\u001b[0m\u001b[0m\n",
      "\u001b[0;32m~/anaconda3/envs/openlive/lib/python3.7/site-packages/pygsheets/datarange.py\u001b[0m in \u001b[0;36m__repr__\u001b[0;34m(self)\u001b[0m\n\u001b[1;32m    239\u001b[0m \u001b[0;34m\u001b[0m\u001b[0m\n\u001b[1;32m    240\u001b[0m         \"\"\"\n\u001b[0;32m--> 241\u001b[0;31m         \u001b[0;32mif\u001b[0m \u001b[0mself\u001b[0m\u001b[0;34m.\u001b[0m\u001b[0m_linked\u001b[0m \u001b[0;32mand\u001b[0m \u001b[0mvalues\u001b[0m\u001b[0;34m:\u001b[0m\u001b[0;34m\u001b[0m\u001b[0m\n\u001b[0m\u001b[1;32m    242\u001b[0m             \u001b[0mself\u001b[0m\u001b[0;34m.\u001b[0m\u001b[0m_worksheet\u001b[0m\u001b[0;34m.\u001b[0m\u001b[0mupdate_values\u001b[0m\u001b[0;34m(\u001b[0m\u001b[0mcrange\u001b[0m\u001b[0;34m=\u001b[0m\u001b[0mself\u001b[0m\u001b[0;34m.\u001b[0m\u001b[0mrange\u001b[0m\u001b[0;34m,\u001b[0m \u001b[0mvalues\u001b[0m\u001b[0;34m=\u001b[0m\u001b[0mvalues\u001b[0m\u001b[0;34m)\u001b[0m\u001b[0;34m\u001b[0m\u001b[0m\n\u001b[1;32m    243\u001b[0m             \u001b[0mself\u001b[0m\u001b[0;34m.\u001b[0m\u001b[0mfetch\u001b[0m\u001b[0;34m(\u001b[0m\u001b[0;34m)\u001b[0m\u001b[0;34m\u001b[0m\u001b[0m\n",
      "\u001b[0;31mAttributeError\u001b[0m: 'DataRange' object has no attribute '_protected'"
     ]
    }
   ],
   "source": [
    "wks.create_named_range(\"a\", (1, 10), (5, 15))"
   ]
  },
  {
   "cell_type": "code",
   "execution_count": 65,
   "metadata": {},
   "outputs": [],
   "source": [
    "gridrange = {\n",
    "  \"sheetId\": 0,\n",
    "  \"startRowIndex\": 0,\n",
    "  \"endRowIndex\": 2,\n",
    "  \"startColumnIndex\": 0,\n",
    "  \"endColumnIndex\": 2,\n",
    "}\n",
    "pr = wks.create_protected_range(gridrange)\n"
   ]
  },
  {
   "cell_type": "code",
   "execution_count": null,
   "metadata": {},
   "outputs": [],
   "source": [
    "wks.create_named_range((1, 10), (5, 15))"
   ]
  },
  {
   "cell_type": "code",
   "execution_count": 71,
   "metadata": {},
   "outputs": [
    {
     "ename": "AttributeError",
     "evalue": "'DataRange' object has no attribute '_protected'",
     "output_type": "error",
     "traceback": [
      "\u001b[0;31m---------------------------------------------------------------------------\u001b[0m",
      "\u001b[0;31mAttributeError\u001b[0m                            Traceback (most recent call last)",
      "\u001b[0;32m~/anaconda3/envs/openlive/lib/python3.7/site-packages/IPython/core/formatters.py\u001b[0m in \u001b[0;36m__call__\u001b[0;34m(self, obj)\u001b[0m\n\u001b[1;32m    700\u001b[0m                 \u001b[0mtype_pprinters\u001b[0m\u001b[0;34m=\u001b[0m\u001b[0mself\u001b[0m\u001b[0;34m.\u001b[0m\u001b[0mtype_printers\u001b[0m\u001b[0;34m,\u001b[0m\u001b[0;34m\u001b[0m\u001b[0m\n\u001b[1;32m    701\u001b[0m                 deferred_pprinters=self.deferred_printers)\n\u001b[0;32m--> 702\u001b[0;31m             \u001b[0mprinter\u001b[0m\u001b[0;34m.\u001b[0m\u001b[0mpretty\u001b[0m\u001b[0;34m(\u001b[0m\u001b[0mobj\u001b[0m\u001b[0;34m)\u001b[0m\u001b[0;34m\u001b[0m\u001b[0m\n\u001b[0m\u001b[1;32m    703\u001b[0m             \u001b[0mprinter\u001b[0m\u001b[0;34m.\u001b[0m\u001b[0mflush\u001b[0m\u001b[0;34m(\u001b[0m\u001b[0;34m)\u001b[0m\u001b[0;34m\u001b[0m\u001b[0m\n\u001b[1;32m    704\u001b[0m             \u001b[0;32mreturn\u001b[0m \u001b[0mstream\u001b[0m\u001b[0;34m.\u001b[0m\u001b[0mgetvalue\u001b[0m\u001b[0;34m(\u001b[0m\u001b[0;34m)\u001b[0m\u001b[0;34m\u001b[0m\u001b[0m\n",
      "\u001b[0;32m~/anaconda3/envs/openlive/lib/python3.7/site-packages/IPython/lib/pretty.py\u001b[0m in \u001b[0;36mpretty\u001b[0;34m(self, obj)\u001b[0m\n\u001b[1;32m    398\u001b[0m                         \u001b[0;32mif\u001b[0m \u001b[0mcls\u001b[0m \u001b[0;32mis\u001b[0m \u001b[0;32mnot\u001b[0m \u001b[0mobject\u001b[0m\u001b[0;31m \u001b[0m\u001b[0;31m\\\u001b[0m\u001b[0;34m\u001b[0m\u001b[0m\n\u001b[1;32m    399\u001b[0m                                 \u001b[0;32mand\u001b[0m \u001b[0mcallable\u001b[0m\u001b[0;34m(\u001b[0m\u001b[0mcls\u001b[0m\u001b[0;34m.\u001b[0m\u001b[0m__dict__\u001b[0m\u001b[0;34m.\u001b[0m\u001b[0mget\u001b[0m\u001b[0;34m(\u001b[0m\u001b[0;34m'__repr__'\u001b[0m\u001b[0;34m)\u001b[0m\u001b[0;34m)\u001b[0m\u001b[0;34m:\u001b[0m\u001b[0;34m\u001b[0m\u001b[0m\n\u001b[0;32m--> 400\u001b[0;31m                             \u001b[0;32mreturn\u001b[0m \u001b[0m_repr_pprint\u001b[0m\u001b[0;34m(\u001b[0m\u001b[0mobj\u001b[0m\u001b[0;34m,\u001b[0m \u001b[0mself\u001b[0m\u001b[0;34m,\u001b[0m \u001b[0mcycle\u001b[0m\u001b[0;34m)\u001b[0m\u001b[0;34m\u001b[0m\u001b[0m\n\u001b[0m\u001b[1;32m    401\u001b[0m \u001b[0;34m\u001b[0m\u001b[0m\n\u001b[1;32m    402\u001b[0m             \u001b[0;32mreturn\u001b[0m \u001b[0m_default_pprint\u001b[0m\u001b[0;34m(\u001b[0m\u001b[0mobj\u001b[0m\u001b[0;34m,\u001b[0m \u001b[0mself\u001b[0m\u001b[0;34m,\u001b[0m \u001b[0mcycle\u001b[0m\u001b[0;34m)\u001b[0m\u001b[0;34m\u001b[0m\u001b[0m\n",
      "\u001b[0;32m~/anaconda3/envs/openlive/lib/python3.7/site-packages/IPython/lib/pretty.py\u001b[0m in \u001b[0;36m_repr_pprint\u001b[0;34m(obj, p, cycle)\u001b[0m\n\u001b[1;32m    693\u001b[0m     \u001b[0;34m\"\"\"A pprint that just redirects to the normal repr function.\"\"\"\u001b[0m\u001b[0;34m\u001b[0m\u001b[0m\n\u001b[1;32m    694\u001b[0m     \u001b[0;31m# Find newlines and replace them with p.break_()\u001b[0m\u001b[0;34m\u001b[0m\u001b[0;34m\u001b[0m\u001b[0m\n\u001b[0;32m--> 695\u001b[0;31m     \u001b[0moutput\u001b[0m \u001b[0;34m=\u001b[0m \u001b[0mrepr\u001b[0m\u001b[0;34m(\u001b[0m\u001b[0mobj\u001b[0m\u001b[0;34m)\u001b[0m\u001b[0;34m\u001b[0m\u001b[0m\n\u001b[0m\u001b[1;32m    696\u001b[0m     \u001b[0;32mfor\u001b[0m \u001b[0midx\u001b[0m\u001b[0;34m,\u001b[0m\u001b[0moutput_line\u001b[0m \u001b[0;32min\u001b[0m \u001b[0menumerate\u001b[0m\u001b[0;34m(\u001b[0m\u001b[0moutput\u001b[0m\u001b[0;34m.\u001b[0m\u001b[0msplitlines\u001b[0m\u001b[0;34m(\u001b[0m\u001b[0;34m)\u001b[0m\u001b[0;34m)\u001b[0m\u001b[0;34m:\u001b[0m\u001b[0;34m\u001b[0m\u001b[0m\n\u001b[1;32m    697\u001b[0m         \u001b[0;32mif\u001b[0m \u001b[0midx\u001b[0m\u001b[0;34m:\u001b[0m\u001b[0;34m\u001b[0m\u001b[0m\n",
      "\u001b[0;32m~/anaconda3/envs/openlive/lib/python3.7/site-packages/pygsheets/datarange.py\u001b[0m in \u001b[0;36m__repr__\u001b[0;34m(self)\u001b[0m\n\u001b[1;32m    239\u001b[0m \u001b[0;34m\u001b[0m\u001b[0m\n\u001b[1;32m    240\u001b[0m         \"\"\"\n\u001b[0;32m--> 241\u001b[0;31m         \u001b[0;32mif\u001b[0m \u001b[0mself\u001b[0m\u001b[0;34m.\u001b[0m\u001b[0m_linked\u001b[0m \u001b[0;32mand\u001b[0m \u001b[0mvalues\u001b[0m\u001b[0;34m:\u001b[0m\u001b[0;34m\u001b[0m\u001b[0m\n\u001b[0m\u001b[1;32m    242\u001b[0m             \u001b[0mself\u001b[0m\u001b[0;34m.\u001b[0m\u001b[0m_worksheet\u001b[0m\u001b[0;34m.\u001b[0m\u001b[0mupdate_values\u001b[0m\u001b[0;34m(\u001b[0m\u001b[0mcrange\u001b[0m\u001b[0;34m=\u001b[0m\u001b[0mself\u001b[0m\u001b[0;34m.\u001b[0m\u001b[0mrange\u001b[0m\u001b[0;34m,\u001b[0m \u001b[0mvalues\u001b[0m\u001b[0;34m=\u001b[0m\u001b[0mvalues\u001b[0m\u001b[0;34m)\u001b[0m\u001b[0;34m\u001b[0m\u001b[0m\n\u001b[1;32m    243\u001b[0m             \u001b[0mself\u001b[0m\u001b[0;34m.\u001b[0m\u001b[0mfetch\u001b[0m\u001b[0;34m(\u001b[0m\u001b[0;34m)\u001b[0m\u001b[0;34m\u001b[0m\u001b[0m\n",
      "\u001b[0;31mAttributeError\u001b[0m: 'DataRange' object has no attribute '_protected'"
     ]
    }
   ],
   "source": [
    "wks.get_values((1, 10), (5, 15), returnas='range')"
   ]
  },
  {
   "cell_type": "code",
   "execution_count": null,
   "metadata": {},
   "outputs": [],
   "source": [
    "pr.update()"
   ]
  }
 ],
 "metadata": {
  "kernelspec": {
   "display_name": "Python 3",
   "language": "python",
   "name": "python3"
  },
  "language_info": {
   "codemirror_mode": {
    "name": "ipython",
    "version": 3
   },
   "file_extension": ".py",
   "mimetype": "text/x-python",
   "name": "python",
   "nbconvert_exporter": "python",
   "pygments_lexer": "ipython3",
   "version": "3.6.4"
  }
 },
 "nbformat": 4,
 "nbformat_minor": 2
}
